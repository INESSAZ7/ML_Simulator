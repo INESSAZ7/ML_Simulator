{
 "cells": [
  {
   "cell_type": "markdown",
   "id": "e53c88ab",
   "metadata": {},
   "source": [
    "## Уникальность товара\n",
    "- Построение эмбеддингов см. [Middle/SKU_Embeddings]()\n",
    "- Вычисление цены на похожие товары [JUNIOR/Similar_Items_Price]()\n",
    "\n",
    "Необходимо отсеить однотипные товары в рекомендациях. Напишем функцию, которая оценивает уникальность каждого товара (uniqueness),  насколько эмбеддинг товара удален (изолирован) от других эмбеддингов\n",
    "\n",
    "Мера близости - евклидово расстояние"
   ]
  },
  {
   "cell_type": "markdown",
   "id": "072ed4ec",
   "metadata": {},
   "source": [
    "### Step-1: KNN"
   ]
  },
  {
   "cell_type": "code",
   "execution_count": 1,
   "id": "5e24ad9d",
   "metadata": {},
   "outputs": [],
   "source": [
    "import numpy as np\n",
    "from sklearn.neighbors import NearestNeighbors"
   ]
  },
  {
   "cell_type": "code",
   "execution_count": 2,
   "id": "effb0ec6",
   "metadata": {},
   "outputs": [],
   "source": [
    "def knn_uniqueness(embeddings: np.ndarray, num_neighbors: int) -> np.ndarray:\n",
    "    \"\"\"Estimate uniqueness of each item in item embeddings group. Based on knn.\n",
    "\n",
    "    Parameters\n",
    "    ----------\n",
    "    embeddings: np.ndarray :\n",
    "        embeddings group \n",
    "    num_neighbors: int :\n",
    "        number of neighbors to estimate uniqueness    \n",
    "\n",
    "    Returns\n",
    "    -------\n",
    "    np.ndarray\n",
    "        uniqueness estimates\n",
    "\n",
    "    \"\"\"\n",
    "    \n",
    "    knn = NearestNeighbors(n_neighbors = num_neighbors)\n",
    "    knn.fit(embeddings)\n",
    "    distances, _ = knn.kneighbors(embeddings)\n",
    "    uniqueness = np.mean(distances, axis=1)\n",
    "    \n",
    "    return uniqueness"
   ]
  },
  {
   "cell_type": "code",
   "execution_count": 3,
   "id": "1a423390",
   "metadata": {},
   "outputs": [],
   "source": [
    "#сгенирируем случайный эмбеддинг\n",
    "embeddings = np.random.normal(size=(6, 2))"
   ]
  },
  {
   "cell_type": "code",
   "execution_count": 4,
   "id": "98181341",
   "metadata": {},
   "outputs": [
    {
     "data": {
      "text/plain": [
       "array([0.79792952, 0.75986192, 0.92500148, 1.27355236, 0.75559718,\n",
       "       0.66968766])"
      ]
     },
     "execution_count": 4,
     "metadata": {},
     "output_type": "execute_result"
    }
   ],
   "source": [
    "knn_uniqueness(embeddings, 4)"
   ]
  },
  {
   "cell_type": "code",
   "execution_count": 5,
   "id": "b3bf4b69",
   "metadata": {},
   "outputs": [
    {
     "name": "stdout",
     "output_type": "stream",
     "text": [
      "[[-0.75318295 -1.49677626]\n",
      " [-0.14712388 -0.31160288]\n",
      " [-1.73635873 -0.74181199]\n",
      " [ 1.30373384 -1.3900693 ]\n",
      " [ 0.1008485  -1.14930397]\n",
      " [-0.96289078 -0.48824138]]\n"
     ]
    }
   ],
   "source": [
    "print(embeddings)"
   ]
  },
  {
   "cell_type": "markdown",
   "id": "528eb0b8",
   "metadata": {},
   "source": [
    "### Step-2: Kernel Density Uniqueness"
   ]
  },
  {
   "cell_type": "code",
   "execution_count": 12,
   "id": "11b9868c",
   "metadata": {},
   "outputs": [],
   "source": [
    "from sklearn.neighbors import KernelDensity\n",
    "import numpy as np\n",
    "\n",
    "def kde_uniqueness(embeddings: np.ndarray) -> np.ndarray:\n",
    "    \"\"\"Estimate uniqueness of each item in item embeddings group. Based on KDE.\n",
    "\n",
    "    Parameters\n",
    "    ----------\n",
    "    embeddings: np.ndarray :\n",
    "        embeddings group \n",
    "\n",
    "    Returns\n",
    "    -------\n",
    "    np.ndarray\n",
    "        uniqueness estimates\n",
    "\n",
    "    \"\"\"\n",
    "    kde = KernelDensity(kernel='gaussian').fit(embeddings)\n",
    "    likelihood = np.exp(kde.score_samples(embeddings))\n",
    "    return 1/likelihood"
   ]
  },
  {
   "cell_type": "code",
   "execution_count": 13,
   "id": "dc2cb8d5",
   "metadata": {},
   "outputs": [
    {
     "data": {
      "text/plain": [
       "array([1.50792525, 1.50760707, 1.50758296, 1.50796446, 1.50781947,\n",
       "       1.50733142])"
      ]
     },
     "execution_count": 13,
     "metadata": {},
     "output_type": "execute_result"
    }
   ],
   "source": [
    "kde_uniqueness(embeddings)"
   ]
  },
  {
   "cell_type": "markdown",
   "id": "fe6ed606",
   "metadata": {},
   "source": [
    "### Step-3: Diversity"
   ]
  },
  {
   "cell_type": "code",
   "execution_count": 19,
   "id": "886162f2",
   "metadata": {},
   "outputs": [],
   "source": [
    "from typing import Tuple\n",
    "\n",
    "def group_diversity(embeddings: np.ndarray, threshold: float) -> Tuple[bool, float]:\n",
    "    \"\"\"Calculate group diversity based on kde uniqueness.\n",
    "\n",
    "    Parameters\n",
    "    ----------\n",
    "    embeddings: np.ndarray :\n",
    "        embeddings group\n",
    "    threshold: float :\n",
    "       group deversity threshold for reject group\n",
    "\n",
    "    Returns\n",
    "    -------\n",
    "    Tuple[bool, float]\n",
    "        reject\n",
    "        group diverstity\n",
    "\n",
    "    \"\"\"\n",
    "    diversity = np.mean(kde_uniqueness(embeddings))\n",
    "    if diversity < threshold:\n",
    "        #reject\n",
    "        return (True, diversity)\n",
    "    else:\n",
    "        return (False, diversity)\n"
   ]
  },
  {
   "cell_type": "code",
   "execution_count": 21,
   "id": "d7d5f59d",
   "metadata": {},
   "outputs": [
    {
     "data": {
      "text/plain": [
       "(True, 1.507705106376016)"
      ]
     },
     "execution_count": 21,
     "metadata": {},
     "output_type": "execute_result"
    }
   ],
   "source": [
    "group_diversity(embeddings, 1.6)"
   ]
  },
  {
   "cell_type": "markdown",
   "id": "a34ec035",
   "metadata": {},
   "source": [
    "### Step-4: Uniqueness-as-a-Service\n",
    "Реализуем FastAPI service"
   ]
  },
  {
   "cell_type": "code",
   "execution_count": 25,
   "id": "b56ec7ea",
   "metadata": {},
   "outputs": [],
   "source": [
    "#!pip install fastapi_utils"
   ]
  },
  {
   "cell_type": "code",
   "execution_count": 24,
   "id": "368abc95",
   "metadata": {},
   "outputs": [],
   "source": [
    "import os\n",
    "import uvicorn\n",
    "from fastapi import FastAPI\n",
    "from fastapi_utils.tasks import repeat_every\n",
    "\n",
    "\n",
    "DIVERSITY_THRESHOLD = 10\n",
    "\n",
    "app = FastAPI()\n",
    "embeddings = {}"
   ]
  },
  {
   "cell_type": "code",
   "execution_count": 27,
   "id": "d627cd09",
   "metadata": {},
   "outputs": [],
   "source": [
    "#подгружает все эмбеддинги каждые 10 секунд\n",
    "\n",
    "@app.on_event(\"startup\")\n",
    "@repeat_every(seconds=10)\n",
    "def load_embeddings() -> dict:\n",
    "    \"\"\"Load new embeddings every 10 seconds\"\"\"\n",
    "    embeddings_raw = np.load(\"embeddings.npy\", allow_pickle=True).item()\n",
    "    for item_id, embedding in embeddings_raw.items():\n",
    "        embeddings[item_id] = embedding\n",
    "\n",
    "    return {}"
   ]
  },
  {
   "cell_type": "code",
   "execution_count": 28,
   "id": "83f4aeeb",
   "metadata": {},
   "outputs": [],
   "source": [
    "#GET-запрос, который просит оценить выборку товаров\n",
    "\n",
    "@app.get(\"/uniqueness/\")\n",
    "def uniqueness(item_ids: str) -> dict:\n",
    "    \"\"\"Calculate uniqueness of each product\"\"\"\n",
    "\n",
    "    # Parse item IDs\n",
    "    item_ids = [int(item) for item in item_ids.split(\",\")]\n",
    "\n",
    "    # Default answer\n",
    "    item_uniqueness = {item_id: 0.0 for item_id in item_ids}\n",
    "    \n",
    "    # Calculate uniqueness\n",
    "    item_embeddings = []\n",
    "    for item_id in item_ids:\n",
    "        item_embeddings.append(embeddings[item_id])\n",
    "    uniqueness = kde_uniqueness(np.array(item_embeddings)).tolist()\n",
    "\n",
    "    # Fill answer\n",
    "    for idx, item_id in enumerate:\n",
    "        item_uniqueness[item_id] = uniqueness[idx]\n",
    "        \n",
    "    return item_uniqueness"
   ]
  },
  {
   "cell_type": "code",
   "execution_count": 29,
   "id": "73467a34",
   "metadata": {},
   "outputs": [],
   "source": [
    "#GET-запрос, который возвращает метрику разнообразия и вердикт «отвергнуть»/«принять» выдачу\n",
    "\n",
    "@app.get(\"/diversity/\")\n",
    "def diversity(item_ids: str) -> dict:\n",
    "    \"\"\"Calculate diversity of group of products\"\"\"\n",
    "\n",
    "    # Parse item IDs\n",
    "    item_ids = [int(item) for item in item_ids.split(\",\")]\n",
    "\n",
    "    # Calculate diversity\n",
    "    response = {\"diversity\": 0.0, \"reject\": True}\n",
    "    \n",
    "    item_embeddings = []\n",
    "    for item_id in item_ids:\n",
    "        item_embeddings.append(emdeddings[item_id])\n",
    "    \n",
    "    diversity = group_diversity(item_embeddings,DIVERSITY_THRESHOLD)    \n",
    "    response[\"diversity\"] = float(diversity[1])\n",
    "    response[\"reject\"] = bool(diversity[0])\n",
    "    return response"
   ]
  },
  {
   "cell_type": "code",
   "execution_count": null,
   "id": "0fe8c0e9",
   "metadata": {},
   "outputs": [],
   "source": []
  }
 ],
 "metadata": {
  "kernelspec": {
   "display_name": "Python 3",
   "language": "python",
   "name": "python3"
  },
  "language_info": {
   "codemirror_mode": {
    "name": "ipython",
    "version": 3
   },
   "file_extension": ".py",
   "mimetype": "text/x-python",
   "name": "python",
   "nbconvert_exporter": "python",
   "pygments_lexer": "ipython3",
   "version": "3.8.5"
  }
 },
 "nbformat": 4,
 "nbformat_minor": 5
}
