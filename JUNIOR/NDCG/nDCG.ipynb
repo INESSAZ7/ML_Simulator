{
 "cells": [
  {
   "cell_type": "markdown",
   "id": "5363de77",
   "metadata": {},
   "source": [
    "### Normalized Discounted Cumulative Gain\n",
    "Метрика в ранжировании, учитывающая порядок элементов в выдаче\n",
    "\n",
    "* https://www.geeksforgeeks.org/normalized-discounted-cumulative-gain-multilabel-ranking-metrics-ml/\n",
    "* https://www.youtube.com/watch?v=nCtM4Xg7e4k. \n",
    "* https://www.youtube.com/watch?v=qm1In7NH8WE\n",
    "* https://medium.com/valassis-engineering-blog/p-ndcg-a-new-learning-to-rank-metric-for-large-lists-of-imbalanced-binary-data-4bee19dc4734"
   ]
  },
  {
   "cell_type": "markdown",
   "id": "72474517",
   "metadata": {},
   "source": [
    "### Step-1: Cumulative Gain"
   ]
  },
  {
   "cell_type": "code",
   "execution_count": 9,
   "id": "18524d36",
   "metadata": {},
   "outputs": [],
   "source": [
    "from typing import List\n",
    "\n",
    "import numpy as np\n",
    "\n",
    "\n",
    "def cumulative_gain(relevance: List[float], k: int) -> float:\n",
    "    \"\"\"Score is cumulative gain at k (CG@k)\n",
    "\n",
    "    Parameters\n",
    "    ----------\n",
    "    relevance:  `List[float]`\n",
    "        Relevance labels (Ranks)\n",
    "    k : `int`\n",
    "        Number of elements to be counted\n",
    "\n",
    "    Returns\n",
    "    -------\n",
    "    score : float\n",
    "    \"\"\"\n",
    "    score = sum(relevance[:k])\n",
    "    return score\n"
   ]
  },
  {
   "cell_type": "code",
   "execution_count": 10,
   "id": "9caf87ff",
   "metadata": {},
   "outputs": [
    {
     "name": "stdout",
     "output_type": "stream",
     "text": [
      "4.26\n"
     ]
    }
   ],
   "source": [
    "relevance = [0.99, 0.94, 0.88, 0.74, 0.71, 0.68]\n",
    "k = 5\n",
    "print(cumulative_gain(relevance, k))\n",
    "\n",
    "#4.26"
   ]
  },
  {
   "cell_type": "markdown",
   "id": "a999cefd",
   "metadata": {},
   "source": [
    "### Step-2: Discounted Cumulative Gain"
   ]
  },
  {
   "cell_type": "code",
   "execution_count": 17,
   "id": "204c1f00",
   "metadata": {},
   "outputs": [],
   "source": [
    "from typing import List\n",
    "\n",
    "import numpy as np\n",
    "\n",
    "\n",
    "def discounted_cumulative_gain(relevance: List[float], k: int, method: str = \"standard\") -> float:\n",
    "    \"\"\"Discounted Cumulative Gain\n",
    "\n",
    "    Parameters\n",
    "    ----------\n",
    "    relevance : `List[float]`\n",
    "        Video relevance list\n",
    "    k : `int`\n",
    "        Count relevance to compute\n",
    "    method : `str`, optional\n",
    "        Metric implementation method, takes the values​​\n",
    "        `standard` - adds weight to the denominator\n",
    "        `industry` - adds weights to the numerator and denominator\n",
    "        `raise ValueError` - for any value\n",
    "\n",
    "    Returns\n",
    "    -------\n",
    "    score : `float`\n",
    "        Metric score\n",
    "    \"\"\"\n",
    "    score = 0\n",
    "    if method=='standard':\n",
    "        for i, rel in enumerate(relevance[:k]):\n",
    "            score += rel/(np.log2(i+2))\n",
    "            \n",
    "    elif method=='industry':\n",
    "        for i, rel in enumerate(relevance[:k]):\n",
    "            score += (2**rel-1)/(np.log2(i+2))\n",
    "        \n",
    "    else:\n",
    "        raise ValueError\n",
    "    \n",
    "    return score"
   ]
  },
  {
   "cell_type": "code",
   "execution_count": 20,
   "id": "1b4642fa",
   "metadata": {},
   "outputs": [
    {
     "name": "stdout",
     "output_type": "stream",
     "text": [
      "2.6164401144680056\n"
     ]
    }
   ],
   "source": [
    "relevance = [0.99, 0.94, 0.88, 0.74, 0.71, 0.68]\n",
    "k = 5\n",
    "method = 'standard'\n",
    "print(discounted_cumulative_gain(relevance, k, method))\n",
    "\n",
    "#2.6164"
   ]
  },
  {
   "cell_type": "code",
   "execution_count": 25,
   "id": "96ee7f27",
   "metadata": {},
   "outputs": [
    {
     "data": {
      "image/png": "[encoded data removed]",
      "text/plain": [
       "<Figure size 432x288 with 1 Axes>"
      ]
     },
     "metadata": {
      "needs_background": "light"
     },
     "output_type": "display_data"
    }
   ],
   "source": [
    "import matplotlib.pyplot as plt\n",
    "\n",
    "# данные для графика\n",
    "x = np.linspace(0,1,10000)\n",
    "y = 2**x-1\n",
    "\n",
    "# создаем график\n",
    "plt.plot(x, y)\n",
    "\n",
    "# добавляем заголовок и подписи осей\n",
    "plt.title('DCG')\n",
    "plt.xlabel('Ось X')\n",
    "plt.ylabel('Ось Y')\n",
    "\n",
    "# показываем график\n",
    "plt.show()\n"
   ]
  },
  {
   "cell_type": "markdown",
   "id": "e40fce22",
   "metadata": {},
   "source": [
    "### Step-3: Normalized Discounted Cumulative Gain"
   ]
  },
  {
   "cell_type": "code",
   "execution_count": 30,
   "id": "97eccfa9",
   "metadata": {},
   "outputs": [],
   "source": [
    "from typing import List\n",
    "\n",
    "import numpy as np\n",
    "\n",
    "\n",
    "def normalized_dcg(relevance: List[float], k: int, method: str = \"standard\") -> float:\n",
    "    \"\"\"Normalized Discounted Cumulative Gain.\n",
    "\n",
    "    Parameters\n",
    "    ----------\n",
    "    relevance : `List[float]`\n",
    "        Video relevance list\n",
    "    k : `int`\n",
    "        Count relevance to compute\n",
    "    method : `str`, optional\n",
    "        Metric implementation method, takes the values\n",
    "        `standard` - adds weight to the denominator\n",
    "        `industry` - adds weights to the numerator and denominator\n",
    "        `raise ValueError` - for any value\n",
    "\n",
    "    Returns\n",
    "    -------\n",
    "    score : `float`\n",
    "        Metric score\n",
    "    \"\"\"\n",
    "    score = 0\n",
    "    iscore = 0\n",
    "    sort_relevance = sorted(relevance,reverse=True)\n",
    "    if method=='standard':\n",
    "        for i, rel in enumerate(relevance[:k]):\n",
    "            score += rel/(np.log2(i+2)) \n",
    "        for i, sort_rel in enumerate(sort_relevance[:k]):\n",
    "            iscore += sort_rel/(np.log2(i+2))    \n",
    "            \n",
    "    elif method=='industry':\n",
    "        for i, rel in enumerate(relevance[:k]):\n",
    "            score += (2**rel-1)/(np.log2(i+2))\n",
    "        for i, sort_rel in enumerate(sort_relevance[:k]):\n",
    "            iscore += (2**sort_rel-1)/(np.log2(i+2))\n",
    "        \n",
    "        \n",
    "    else:\n",
    "        raise ValueError\n",
    "    \n",
    "    return score/iscore"
   ]
  },
  {
   "cell_type": "code",
   "execution_count": 31,
   "id": "5cb852b5",
   "metadata": {},
   "outputs": [
    {
     "name": "stdout",
     "output_type": "stream",
     "text": [
      "0.9962906539247512\n"
     ]
    }
   ],
   "source": [
    "relevance = [0.99, 0.94, 0.74, 0.88, 0.71, 0.68]\n",
    "k = 5\n",
    "method = 'standard'\n",
    "print(normalized_dcg(relevance, k, method))\n",
    "\n",
    "#0.9962..."
   ]
  },
  {
   "cell_type": "markdown",
   "id": "6b18a9dc",
   "metadata": {},
   "source": [
    "### Step-4: Average Normalized Discounted Cumulative Gain"
   ]
  },
  {
   "cell_type": "code",
   "execution_count": 34,
   "id": "45a6c9d6",
   "metadata": {},
   "outputs": [],
   "source": [
    "from typing import List\n",
    "\n",
    "import numpy as np\n",
    "\n",
    "def avg_ndcg(list_relevances: List[List[float]], k: int, method: str = 'standard') -> float:\n",
    "    \"\"\"average nDCG\n",
    "\n",
    "    Parameters\n",
    "    ----------\n",
    "    list_relevances : `List[List[float]]`\n",
    "        Video relevance matrix for various queries\n",
    "    k : `int`\n",
    "        Count relevance to compute\n",
    "    method : `str`, optional\n",
    "        Metric implementation method, takes the values ​​\\\n",
    "        `standard` - adds weight to the denominator\\\n",
    "        `industry` - adds weights to the numerator and denominator\\\n",
    "        `raise ValueError` - for any value\n",
    "\n",
    "    Returns\n",
    "    -------\n",
    "    score : `float`\n",
    "        Metric score\n",
    "    \"\"\"\n",
    "    list_score = []\n",
    "    if method=='standard':\n",
    "        for relevance in list_relevances:\n",
    "            score = 0\n",
    "            iscore = 0\n",
    "            sort_relevance = sorted(relevance,reverse=True)\n",
    "            for i, rel in enumerate(relevance[:k]):\n",
    "                score += rel/(np.log2(i+2)) \n",
    "            for i, sort_rel in enumerate(sort_relevance[:k]):\n",
    "                iscore += sort_rel/(np.log2(i+2))    \n",
    "            list_score.append(score/iscore)\n",
    "            \n",
    "    elif method=='industry':\n",
    "        for relevance in list_relevances:\n",
    "            score = 0\n",
    "            iscore = 0\n",
    "            sort_relevance = sorted(relevance,reverse=True)\n",
    "            for i, rel in enumerate(relevance[:k]):\n",
    "                score += (2**rel-1)/(np.log2(i+2))\n",
    "            for i, sort_rel in enumerate(sort_relevance[:k]):\n",
    "                iscore += (2**sort_rel-1)/(np.log2(i+2))\n",
    "            list_score.append(score/iscore)\n",
    "        \n",
    "    else:\n",
    "        raise ValueError\n",
    "    \n",
    "    return sum(list_score)/len(list_score)"
   ]
  },
  {
   "cell_type": "code",
   "execution_count": 35,
   "id": "fa6dd131",
   "metadata": {},
   "outputs": [
    {
     "name": "stdout",
     "output_type": "stream",
     "text": [
      "0.9961322104432755\n"
     ]
    }
   ],
   "source": [
    "list_relevances = [\n",
    "        [0.99, 0.94, 0.88, 0.89, 0.72, 0.65],\n",
    "        [0.99, 0.92, 0.93, 0.74, 0.61, 0.68], \n",
    "        [0.99, 0.96, 0.81, 0.73, 0.76, 0.69]\n",
    "    ]  \n",
    "k = 5\n",
    "method = 'standard'\n",
    "print(avg_ndcg(list_relevances, k, method))\n",
    "\n",
    "#0.99613..."
   ]
  },
  {
   "cell_type": "code",
   "execution_count": null,
   "id": "747ee747",
   "metadata": {},
   "outputs": [],
   "source": []
  }
 ],
 "metadata": {
  "kernelspec": {
   "display_name": "Python 3",
   "language": "python",
   "name": "python3"
  },
  "language_info": {
   "codemirror_mode": {
    "name": "ipython",
    "version": 3
   },
   "file_extension": ".py",
   "mimetype": "text/x-python",
   "name": "python",
   "nbconvert_exporter": "python",
   "pygments_lexer": "ipython3",
   "version": "3.8.5"
  }
 },
 "nbformat": 4,
 "nbformat_minor": 5
}
