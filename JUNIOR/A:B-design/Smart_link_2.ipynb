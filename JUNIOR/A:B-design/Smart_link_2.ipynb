{
 "cells": [
  {
   "cell_type": "markdown",
   "id": "ab801a4c",
   "metadata": {},
   "source": [
    "### A/B-testing"
   ]
  },
  {
   "cell_type": "markdown",
   "id": "e66d8818",
   "metadata": {},
   "source": [
    "### Part 1: Splitting"
   ]
  },
  {
   "cell_type": "code",
   "execution_count": 8,
   "id": "1b12ae60",
   "metadata": {},
   "outputs": [],
   "source": [
    "import hashlib\n",
    "import random \n",
    "from typing import Tuple, List"
   ]
  },
  {
   "cell_type": "code",
   "execution_count": 9,
   "id": "73d8957f",
   "metadata": {},
   "outputs": [],
   "source": [
    "class InvalidWeightData(ValueError):\n",
    "    def __init__(self, message):\n",
    "        super().__init__(message)\n",
    "        self.msgfmt = message"
   ]
  },
  {
   "cell_type": "code",
   "execution_count": 136,
   "id": "59cc4c78",
   "metadata": {},
   "outputs": [],
   "source": [
    "class Experiment:\n",
    "    \"\"\"Experiment class. Contains the logic for assigning users to groups.\"\"\"\n",
    "\n",
    "    def __init__(\n",
    "        self,\n",
    "        experiment_id: int,\n",
    "        groups: Tuple[str] = (\"A\", \"B\"),\n",
    "        group_weights: List[float] = None,\n",
    "    ):\n",
    "        self.experiment_id = experiment_id\n",
    "        self.groups = groups\n",
    "        self.group_weights = group_weights\n",
    "        \n",
    "        # Define the salt for experiment_id.\n",
    "        # The salt should be deterministic and unique for each experiment_id.\n",
    "        self.salt = str(experiment_id)\n",
    "\n",
    "        # Define the group weights if they are not provided equaly distributed\n",
    "        # Check input group weights. They must be non-negative and sum to 1.\n",
    "        \n",
    "\n",
    "        if self.group_weights:\n",
    "            w = 0\n",
    "            for wieght in group_weights:\n",
    "                if wieght < 0:\n",
    "                    raise InvalidWeightData(\"Wieght is negative\")\n",
    "                w += wieght\n",
    "            if w != 1:\n",
    "                    raise InvalidWeightData(\"Sum of weights not equal to 1\")\n",
    "                    \n",
    "    def group(self, click_id: int) -> Tuple[int, str]:\n",
    "        \"\"\"Assigns a click to a group.\n",
    "\n",
    "        Parameters\n",
    "        ----------\n",
    "        click_id: int :\n",
    "            id of the click\n",
    "\n",
    "        Returns\n",
    "        -------\n",
    "        Tuple[int, str] :\n",
    "            group id and group name\n",
    "        \"\"\"\n",
    "        # Assign the click to a group randomly based on the group weights\n",
    "        # Return the group id and group name\n",
    "        \n",
    "        click_id = str(click_id)\n",
    "        click_hash = hashlib.sha256(str(click_id+self.salt).encode('utf-8')).hexdigest()\n",
    "        click_hash = int(click_hash, 16)\n",
    "        print(click_hash)\n",
    "        if self.group_weights:\n",
    "            random.seed(click_hash)\n",
    "            group_ids = range(len(self.groups))\n",
    "            group_id = random.choices(group_ids, self.group_weights)[0]\n",
    "            \n",
    "        else:\n",
    "            group_id = click_hash%len(self.groups)\n",
    "            \n",
    "        \n",
    "        return group_id, self.groups[group_id]"
   ]
  },
  {
   "cell_type": "code",
   "execution_count": 137,
   "id": "8d90bb04",
   "metadata": {},
   "outputs": [],
   "source": [
    "ex = Experiment(5, ('A', 'B', 'C'), [0.5, 0.05, 0.45])"
   ]
  },
  {
   "cell_type": "code",
   "execution_count": 138,
   "id": "82d9c9d2",
   "metadata": {},
   "outputs": [
    {
     "name": "stdout",
     "output_type": "stream",
     "text": [
      "83065501960078139073241228247522869445681663391659423428962806080829970134377\n"
     ]
    },
    {
     "data": {
      "text/plain": [
       "(2, 'C')"
      ]
     },
     "execution_count": 138,
     "metadata": {},
     "output_type": "execute_result"
    }
   ],
   "source": [
    "ex.group(2)"
   ]
  },
  {
   "cell_type": "markdown",
   "id": "e1db7b71",
   "metadata": {},
   "source": []
  },
  {
   "cell_type": "markdown",
   "id": "f305864a",
   "metadata": {},
   "source": [
    "### Part-2: Statistical test"
   ]
  },
  {
   "cell_type": "code",
   "execution_count": 158,
   "id": "610a1e60",
   "metadata": {},
   "outputs": [],
   "source": [
    "from scipy.stats import binom, norm, stats\n",
    "from numpy import random\n",
    "import numpy as np\n",
    "\n",
    "def cpc_sample(\n",
    "    n_samples: int, conversion_rate: float, reward_avg: float, reward_std: float\n",
    ") -> np.ndarray:\n",
    "    \"\"\"Sample data.\"\"\"\n",
    "    \n",
    "    cvr = random.binomial(n=1, p=conversion_rate, size=n_samples)\n",
    "    cpa = random.norm(loc=reward_avg, scale=reward_std, size=n_samples)\n",
    "    \n",
    "    return cvr*cpa"
   ]
  },
  {
   "cell_type": "code",
   "execution_count": 159,
   "id": "9d0e8d61",
   "metadata": {},
   "outputs": [],
   "source": [
    "def t_test(cpc_a: np.ndarray, cpc_b: np.ndarray, alpha=0.05\n",
    ") -> Tuple[bool, float]:\n",
    "    \"\"\"Perform t-test.\n",
    "\n",
    "    Parameters\n",
    "    ----------\n",
    "    cpc_a: np.ndarray :\n",
    "        first samples    \n",
    "    cpc_b: np.ndarray :\n",
    "        second samples\n",
    "    alpha :\n",
    "         (Default value = 0.05)\n",
    "\n",
    "    Returns\n",
    "    -------\n",
    "    Tuple[bool, float] :\n",
    "        True if difference is significant, False otherwise\n",
    "        p-value\n",
    "    \"\"\"\n",
    "    \n",
    "    _, pvalue = stats.ttest_ind(cpc_a, cpc_b)\n",
    "    accept = bool(pvalue<alpha)\n",
    "    return (accept, pvalue)"
   ]
  },
  {
   "cell_type": "code",
   "execution_count": null,
   "id": "001e4f44",
   "metadata": {},
   "outputs": [],
   "source": []
  }
 ],
 "metadata": {
  "kernelspec": {
   "display_name": "Python 3",
   "language": "python",
   "name": "python3"
  },
  "language_info": {
   "codemirror_mode": {
    "name": "ipython",
    "version": 3
   },
   "file_extension": ".py",
   "mimetype": "text/x-python",
   "name": "python",
   "nbconvert_exporter": "python",
   "pygments_lexer": "ipython3",
   "version": "3.8.5"
  }
 },
 "nbformat": 4,
 "nbformat_minor": 5
}
