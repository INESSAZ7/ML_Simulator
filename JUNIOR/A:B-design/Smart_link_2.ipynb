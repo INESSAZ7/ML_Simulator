{
 "cells": [
  {
   "cell_type": "markdown",
   "id": "f92f0614",
   "metadata": {},
   "source": [
    "### A/B-testing"
   ]
  },
  {
   "cell_type": "markdown",
   "id": "69e75451",
   "metadata": {},
   "source": [
    "### Part 1: Splitting"
   ]
  },
  {
   "cell_type": "code",
   "execution_count": 8,
   "id": "43aecbd7",
   "metadata": {},
   "outputs": [],
   "source": [
    "import hashlib\n",
    "import random \n",
    "from typing import Tuple, List"
   ]
  },
  {
   "cell_type": "code",
   "execution_count": 9,
   "id": "a16b5a2e",
   "metadata": {},
   "outputs": [],
   "source": [
    "class InvalidWeightData(ValueError):\n",
    "    def __init__(self, message):\n",
    "        super().__init__(message)\n",
    "        self.msgfmt = message"
   ]
  },
  {
   "cell_type": "code",
   "execution_count": 136,
   "id": "7d887662",
   "metadata": {},
   "outputs": [],
   "source": [
    "class Experiment:\n",
    "    \"\"\"Experiment class. Contains the logic for assigning users to groups.\"\"\"\n",
    "\n",
    "    def __init__(\n",
    "        self,\n",
    "        experiment_id: int,\n",
    "        groups: Tuple[str] = (\"A\", \"B\"),\n",
    "        group_weights: List[float] = None,\n",
    "    ):\n",
    "        self.experiment_id = experiment_id\n",
    "        self.groups = groups\n",
    "        self.group_weights = group_weights\n",
    "        \n",
    "        # Define the salt for experiment_id.\n",
    "        # The salt should be deterministic and unique for each experiment_id.\n",
    "        self.salt = str(experiment_id)\n",
    "\n",
    "        # Define the group weights if they are not provided equaly distributed\n",
    "        # Check input group weights. They must be non-negative and sum to 1.\n",
    "        \n",
    "\n",
    "        if self.group_weights:\n",
    "            w = 0\n",
    "            for wieght in group_weights:\n",
    "                if wieght < 0:\n",
    "                    raise InvalidWeightData(\"Wieght is negative\")\n",
    "                w += wieght\n",
    "            if w != 1:\n",
    "                    raise InvalidWeightData(\"Sum of weights not equal to 1\")\n",
    "                    \n",
    "    def group(self, click_id: int) -> Tuple[int, str]:\n",
    "        \"\"\"Assigns a click to a group.\n",
    "\n",
    "        Parameters\n",
    "        ----------\n",
    "        click_id: int :\n",
    "            id of the click\n",
    "\n",
    "        Returns\n",
    "        -------\n",
    "        Tuple[int, str] :\n",
    "            group id and group name\n",
    "        \"\"\"\n",
    "        # Assign the click to a group randomly based on the group weights\n",
    "        # Return the group id and group name\n",
    "        \n",
    "        click_id = str(click_id)\n",
    "        click_hash = hashlib.sha256(str(click_id+self.salt).encode('utf-8')).hexdigest()\n",
    "        click_hash = int(click_hash, 16)\n",
    "        print(click_hash)\n",
    "        if self.group_weights:\n",
    "            random.seed(click_hash)\n",
    "            group_ids = range(len(self.groups))\n",
    "            group_id = random.choices(group_ids, self.group_weights)[0]\n",
    "            \n",
    "        else:\n",
    "            group_id = click_hash%len(self.groups)\n",
    "            \n",
    "        \n",
    "        return group_id, self.groups[group_id]"
   ]
  },
  {
   "cell_type": "code",
   "execution_count": 137,
   "id": "4c5c4098",
   "metadata": {},
   "outputs": [],
   "source": [
    "ex = Experiment(5, ('A', 'B', 'C'), [0.5, 0.05, 0.45])"
   ]
  },
  {
   "cell_type": "code",
   "execution_count": 138,
   "id": "6d700031",
   "metadata": {},
   "outputs": [
    {
     "name": "stdout",
     "output_type": "stream",
     "text": [
      "83065501960078139073241228247522869445681663391659423428962806080829970134377\n"
     ]
    },
    {
     "data": {
      "text/plain": [
       "(2, 'C')"
      ]
     },
     "execution_count": 138,
     "metadata": {},
     "output_type": "execute_result"
    }
   ],
   "source": [
    "ex.group(2)"
   ]
  },
  {
   "cell_type": "code",
   "execution_count": null,
   "id": "3a090759",
   "metadata": {},
   "outputs": [],
   "source": []
  }
 ],
 "metadata": {
  "kernelspec": {
   "display_name": "Python 3",
   "language": "python",
   "name": "python3"
  },
  "language_info": {
   "codemirror_mode": {
    "name": "ipython",
    "version": 3
   },
   "file_extension": ".py",
   "mimetype": "text/x-python",
   "name": "python",
   "nbconvert_exporter": "python",
   "pygments_lexer": "ipython3",
   "version": "3.8.5"
  }
 },
 "nbformat": 4,
 "nbformat_minor": 5
}
