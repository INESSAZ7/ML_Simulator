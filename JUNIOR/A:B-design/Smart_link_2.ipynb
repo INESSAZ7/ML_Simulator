{
 "cells": [
  {
   "cell_type": "markdown",
   "id": "dbb05b6f",
   "metadata": {},
   "source": [
    "### A/B-testing"
   ]
  },
  {
   "cell_type": "markdown",
   "id": "2e3da89b",
   "metadata": {},
   "source": [
    "### Part 1: Splitting"
   ]
  },
  {
   "cell_type": "code",
   "execution_count": 1,
   "id": "5d7c0081",
   "metadata": {},
   "outputs": [],
   "source": [
    "import hashlib\n",
    "import random \n",
    "from typing import Tuple, List"
   ]
  },
  {
   "cell_type": "code",
   "execution_count": 2,
   "id": "2b03f976",
   "metadata": {},
   "outputs": [],
   "source": [
    "class InvalidWeightData(ValueError):\n",
    "    def __init__(self, message):\n",
    "        super().__init__(message)\n",
    "        self.msgfmt = message"
   ]
  },
  {
   "cell_type": "code",
   "execution_count": 3,
   "id": "44c540cc",
   "metadata": {},
   "outputs": [],
   "source": [
    "class Experiment:\n",
    "    \"\"\"Experiment class. Contains the logic for assigning users to groups.\"\"\"\n",
    "\n",
    "    def __init__(\n",
    "        self,\n",
    "        experiment_id: int,\n",
    "        groups: Tuple[str] = (\"A\", \"B\"),\n",
    "        group_weights: List[float] = None,\n",
    "    ):\n",
    "        self.experiment_id = experiment_id\n",
    "        self.groups = groups\n",
    "        self.group_weights = group_weights\n",
    "        \n",
    "        # Define the salt for experiment_id.\n",
    "        # The salt should be deterministic and unique for each experiment_id.\n",
    "        self.salt = str(experiment_id)\n",
    "\n",
    "        # Define the group weights if they are not provided equaly distributed\n",
    "        # Check input group weights. They must be non-negative and sum to 1.\n",
    "        \n",
    "\n",
    "        if self.group_weights:\n",
    "            w = 0\n",
    "            for wieght in group_weights:\n",
    "                if wieght < 0:\n",
    "                    raise InvalidWeightData(\"Wieght is negative\")\n",
    "                w += wieght\n",
    "            if w != 1:\n",
    "                    raise InvalidWeightData(\"Sum of weights not equal to 1\")\n",
    "                    \n",
    "    def group(self, click_id: int) -> Tuple[int, str]:\n",
    "        \"\"\"Assigns a click to a group.\n",
    "\n",
    "        Parameters\n",
    "        ----------\n",
    "        click_id: int :\n",
    "            id of the click\n",
    "\n",
    "        Returns\n",
    "        -------\n",
    "        Tuple[int, str] :\n",
    "            group id and group name\n",
    "        \"\"\"\n",
    "        # Assign the click to a group randomly based on the group weights\n",
    "        # Return the group id and group name\n",
    "        \n",
    "        click_id = str(click_id)\n",
    "        click_hash = hashlib.sha256(str(click_id+self.salt).encode('utf-8')).hexdigest()\n",
    "        click_hash = int(click_hash, 16)\n",
    "        print(click_hash)\n",
    "        if self.group_weights:\n",
    "            random.seed(click_hash)\n",
    "            group_ids = range(len(self.groups))\n",
    "            group_id = random.choices(group_ids, self.group_weights)[0]\n",
    "            \n",
    "        else:\n",
    "            group_id = click_hash%len(self.groups)\n",
    "            \n",
    "        \n",
    "        return group_id, self.groups[group_id]"
   ]
  },
  {
   "cell_type": "code",
   "execution_count": 4,
   "id": "6953236a",
   "metadata": {},
   "outputs": [],
   "source": [
    "ex = Experiment(5, ('A', 'B', 'C'), [0.5, 0.05, 0.45])"
   ]
  },
  {
   "cell_type": "code",
   "execution_count": 5,
   "id": "18c1aacc",
   "metadata": {},
   "outputs": [
    {
     "name": "stdout",
     "output_type": "stream",
     "text": [
      "83065501960078139073241228247522869445681663391659423428962806080829970134377\n"
     ]
    },
    {
     "data": {
      "text/plain": [
       "(2, 'C')"
      ]
     },
     "execution_count": 5,
     "metadata": {},
     "output_type": "execute_result"
    }
   ],
   "source": [
    "ex.group(2)"
   ]
  },
  {
   "cell_type": "markdown",
   "id": "a6a43c2c",
   "metadata": {},
   "source": [
    "### Part-2: Statistical test"
   ]
  },
  {
   "cell_type": "code",
   "execution_count": 6,
   "id": "db874fb0",
   "metadata": {},
   "outputs": [],
   "source": [
    "from scipy import stats\n",
    "import numpy as np\n",
    "\n",
    "def cpc_sample(\n",
    "    n_samples: int, conversion_rate: float, reward_avg: float, reward_std: float\n",
    ") -> np.ndarray:\n",
    "    \"\"\"Sample data.\"\"\"\n",
    "    \n",
    "    cvr = np.random.binomial(n=1, p=conversion_rate, size=n_samples)\n",
    "    cpa = np.random.normal(loc=reward_avg, scale=reward_std, size=n_samples)\n",
    "    \n",
    "    return cvr*cpa"
   ]
  },
  {
   "cell_type": "code",
   "execution_count": 7,
   "id": "420552d7",
   "metadata": {},
   "outputs": [],
   "source": [
    "def t_test(cpc_a: np.ndarray, cpc_b: np.ndarray, alpha=0.05\n",
    ") -> Tuple[bool, float]:\n",
    "    \"\"\"Perform t-test.\n",
    "\n",
    "    Parameters\n",
    "    ----------\n",
    "    cpc_a: np.ndarray :\n",
    "        first samples    \n",
    "    cpc_b: np.ndarray :\n",
    "        second samples\n",
    "    alpha :\n",
    "         (Default value = 0.05)\n",
    "\n",
    "    Returns\n",
    "    -------\n",
    "    Tuple[bool, float] :\n",
    "        True if difference is significant, False otherwise\n",
    "        p-value\n",
    "    \"\"\"\n",
    "    \n",
    "    _, pvalue = stats.ttest_ind(cpc_a, cpc_b)\n",
    "    accept = bool(pvalue<alpha)\n",
    "    return (accept, pvalue)"
   ]
  },
  {
   "cell_type": "code",
   "execution_count": 8,
   "id": "1c3a4977",
   "metadata": {},
   "outputs": [
    {
     "data": {
      "text/plain": [
       "(False, 0.2492338803889851)"
      ]
     },
     "execution_count": 8,
     "metadata": {},
     "output_type": "execute_result"
    }
   ],
   "source": [
    "cpc_a = cpc_sample(10, 0.5, 1, 1)\n",
    "cpc_b = cpc_sample(10, 0.5, 1, 2)\n",
    "t_test(cpc_a, cpc_b)"
   ]
  },
  {
   "cell_type": "markdown",
   "id": "bd62ea2b",
   "metadata": {},
   "source": [
    "### Part-3: A/A-test"
   ]
  },
  {
   "cell_type": "code",
   "execution_count": 9,
   "id": "5dad0e6a",
   "metadata": {},
   "outputs": [],
   "source": [
    "from tqdm import tqdm"
   ]
  },
  {
   "cell_type": "code",
   "execution_count": 10,
   "id": "7c00611f",
   "metadata": {},
   "outputs": [],
   "source": [
    "def aa_test(\n",
    "    n_simulations: int,\n",
    "    n_samples: int,\n",
    "    conversion_rate: float,\n",
    "    reward_avg: float,\n",
    "    reward_std: float,\n",
    "    alpha: float = 0.05,\n",
    ") -> float:\n",
    "    \"\"\"Do the A/A test (simulation).\"\"\"\n",
    "    \n",
    "    type_1_errors = np.zeros(n_simulations)\n",
    "    p_values = np.zeros(n_simulations)\n",
    "    for i in tqdm(range(n_simulations)):\n",
    "        # Generate two cpc samples with the same conversion_rate, reward_avg, and reward_std\n",
    "        # Check t-test and save type 1 error\n",
    "        cpc_a = cpc_sample(n_samples, conversion_rate, reward_avg, reward_std)\n",
    "        cpc_b = cpc_sample(n_samples, conversion_rate, reward_avg, reward_std)\n",
    "        type_1_errors[i] = t_test(cpc_a, cpc_b, alpha)[0]\n",
    "        p_values[i] = t_test(cpc_a, cpc_b, alpha)[1]\n",
    "    # Calculate the type 1 errors rate\n",
    "    type_1_errors_rate = sum(type_1_errors)/n_simulations\n",
    "    return type_1_errors_rate, p_values\n",
    "    #return type_1_errors_rate"
   ]
  },
  {
   "cell_type": "code",
   "execution_count": 11,
   "id": "be855c6c",
   "metadata": {},
   "outputs": [
    {
     "name": "stderr",
     "output_type": "stream",
     "text": [
      "100%|██████████| 1000/1000 [00:02<00:00, 368.92it/s]\n"
     ]
    }
   ],
   "source": [
    "type_1_errors_rate, p_values_aa = aa_test(1000, 10000, 0.5, 1, 0)"
   ]
  },
  {
   "cell_type": "code",
   "execution_count": 12,
   "id": "036b10d9",
   "metadata": {},
   "outputs": [
    {
     "data": {
      "text/plain": [
       "0.044"
      ]
     },
     "execution_count": 12,
     "metadata": {},
     "output_type": "execute_result"
    }
   ],
   "source": [
    "type_1_errors_rate"
   ]
  },
  {
   "cell_type": "code",
   "execution_count": 13,
   "id": "6a407645",
   "metadata": {},
   "outputs": [
    {
     "data": {
      "text/plain": [
       "Text(3.799999999999997, 0.5, 'Counts')"
      ]
     },
     "execution_count": 13,
     "metadata": {},
     "output_type": "execute_result"
    },
    {
     "data": {
      "image/png": "[encoded data removed]",
      "text/plain": [
       "<Figure size 360x360 with 1 Axes>"
      ]
     },
     "metadata": {
      "needs_background": "light"
     },
     "output_type": "display_data"
    }
   ],
   "source": [
    "import matplotlib.pyplot as plt\n",
    "import seaborn as sns\n",
    "\n",
    "sns.displot(x=p_values_aa, kde=True)\n",
    "plt.title('Histogram of p_values')\n",
    "plt.xlabel('p_value')\n",
    "plt.ylabel('Counts')"
   ]
  },
  {
   "cell_type": "markdown",
   "id": "c1846eb1",
   "metadata": {},
   "source": [
    "### Part-4: A/B-test"
   ]
  },
  {
   "cell_type": "markdown",
   "id": "68a9e7da",
   "metadata": {},
   "source": [
    "* Ошибка 1 рода -> приняли гипотезу, а она не верная (чтобы определить проводим а/а-тест, где изначально нет различий => доля изменений,которые улавливаем и есть наша ошибка) - \\alpha\n",
    "* Ошибка 2 рода -> отвергли гипотезу, а отличия есть; проводим a/b-тест на изначально различных данных (распределениях); доля не отвергнутых гипотез и есть ошибка - \\beta\n",
    "* MDE (minimal detectable effect) — минимальный эффект, который мы можем поймать\n",
    "* Мощностью теста (или чувствительностью) называют вероятность, с которой мы будем фиксировать нужный нам MDE (1 - β)\n",
    "* Чем больше чувствительность теста, тем меньше ошибок будет совершаться и меньшие эффекты можно фиксировать (мощность  фиксируют на уровне 80-99%)"
   ]
  },
  {
   "cell_type": "code",
   "execution_count": 14,
   "id": "3dd099ae",
   "metadata": {},
   "outputs": [],
   "source": [
    "def ab_test(\n",
    "    n_simulations: int,\n",
    "    n_samples: int,\n",
    "    conversion_rate: float,\n",
    "    mde: float,\n",
    "    reward_avg: float,\n",
    "    reward_std: float,\n",
    "    alpha: float = 0.05,\n",
    ") -> float:\n",
    "    \"\"\"Do the A/B test (simulation).\"\"\"\n",
    "    p_values = np.zeros(n_simulations)\n",
    "    type_2_errors = np.zeros(n_simulations)\n",
    "    for i in tqdm(range(n_simulations)):\n",
    "        # Generate one cpc sample with the given conversion_rate, reward_avg, and reward_std\n",
    "        # Generate another cpc sample with the given conversion_rate * (1 + mde), reward_avg, and reward_std\n",
    "        # Check t-test and save type 2 error\n",
    "        cpc_a = cpc_sample(n_samples, conversion_rate, reward_avg, reward_std)\n",
    "        cpc_b = cpc_sample(n_samples, conversion_rate*(1+mde), reward_avg, reward_std)\n",
    "        type_2_errors[i] = t_test(cpc_a, cpc_b, alpha)[0]\n",
    "        p_values[i] = t_test(cpc_a, cpc_b, alpha)[1]\n",
    "\n",
    "\n",
    "    # Calculate the type 2 errors rate\n",
    "    type_2_errors_rate = 1 - sum(type_2_errors)/n_simulations\n",
    "\n",
    "    return type_2_errors_rate, p_values\n",
    "    #return type_2_errors_rate"
   ]
  },
  {
   "cell_type": "code",
   "execution_count": 15,
   "id": "fab5bf58",
   "metadata": {},
   "outputs": [
    {
     "name": "stderr",
     "output_type": "stream",
     "text": [
      "100%|██████████| 1000/1000 [00:01<00:00, 912.18it/s]\n"
     ]
    }
   ],
   "source": [
    "type_2_errors_rate, p_values_ab = ab_test(n_simulations=1000, n_samples=1000, conversion_rate=0.5, mde=0.1, reward_avg= 1, reward_std=0)"
   ]
  },
  {
   "cell_type": "code",
   "execution_count": 16,
   "id": "d968bcd2",
   "metadata": {},
   "outputs": [
    {
     "data": {
      "text/plain": [
       "0.375"
      ]
     },
     "execution_count": 16,
     "metadata": {},
     "output_type": "execute_result"
    }
   ],
   "source": [
    "type_2_errors_rate"
   ]
  },
  {
   "cell_type": "code",
   "execution_count": 17,
   "id": "6df27c35",
   "metadata": {},
   "outputs": [
    {
     "data": {
      "text/plain": [
       "Text(3.799999999999997, 0.5, 'Counts')"
      ]
     },
     "execution_count": 17,
     "metadata": {},
     "output_type": "execute_result"
    },
    {
     "data": {
      "image/png": "[encoded data removed]",
      "text/plain": [
       "<Figure size 360x360 with 1 Axes>"
      ]
     },
     "metadata": {
      "needs_background": "light"
     },
     "output_type": "display_data"
    }
   ],
   "source": [
    "sns.displot(x=p_values_ab, kde=True)\n",
    "plt.title('Histogram of p_values')\n",
    "plt.xlabel('p_value')\n",
    "plt.ylabel('Counts')"
   ]
  },
  {
   "cell_type": "markdown",
   "id": "9fb86418",
   "metadata": {},
   "source": [
    "Функции распределения p-value при A/A и A/Б тестах:\\\n",
    "https://habr.com/ru/companies/X5Tech/articles/706388/ "
   ]
  },
  {
   "cell_type": "code",
   "execution_count": 19,
   "id": "a3cc9ebd",
   "metadata": {},
   "outputs": [
    {
     "data": {
      "image/png": "[encoded data removed]",
      "text/plain": [
       "<Figure size 432x288 with 1 Axes>"
      ]
     },
     "metadata": {
      "needs_background": "light"
     },
     "output_type": "display_data"
    }
   ],
   "source": [
    "alpha=0.05\n",
    "y_one = type_1_errors_rate\n",
    "y_two = 1 - type_2_errors_rate\n",
    "X = np.linspace(0, 1, 1000)\n",
    "Y_aa = [np.mean(p_values_aa < x) for x in X]\n",
    "Y_ab = [np.mean(p_values_ab < x) for x in X]\n",
    "\n",
    "plt.plot(X, Y_aa, label='A/A')\n",
    "plt.plot(X, Y_ab, label='A/B')\n",
    "plt.plot([alpha, alpha], [0, 1], '--k', alpha=0.8)\n",
    "plt.plot([0, alpha], [y_one, y_one], '--k', alpha=0.8)\n",
    "plt.plot([0, alpha], [y_two, y_two], '--k', alpha=0.8)\n",
    "plt.plot([0, 1], [0, 1], '--k', alpha=0.8)\n",
    "\n",
    "plt.title('Оценка распределения p-value', size=16)\n",
    "plt.xlabel('p-value', size=12)\n",
    "plt.legend(fontsize=12)\n",
    "plt.grid()\n",
    "plt.show()"
   ]
  },
  {
   "cell_type": "markdown",
   "id": "410a1dea",
   "metadata": {},
   "source": [
    "### Sample size, MDE\n",
    "Напишем функцию для подбора размера выборки при заданных ошибках 1-го и 2-го рода"
   ]
  },
  {
   "cell_type": "code",
   "execution_count": 35,
   "id": "f13fc24b",
   "metadata": {},
   "outputs": [],
   "source": [
    "from typing import List, Tuple\n",
    "import numpy as np\n",
    "from scipy import stats\n",
    "\n",
    "\n",
    "def select_sample_size(\n",
    "    n_samples_grid: List[int],\n",
    "    n_simulations: int,\n",
    "    conversion_rate: float,\n",
    "    mde: float,\n",
    "    reward_avg: float,\n",
    "    reward_std: float,\n",
    "    alpha: float = 0.05,\n",
    "    beta: float = 0.2,\n",
    ") -> Tuple[int, float, float]:\n",
    "    \"\"\"Select sample size.\"\"\"\n",
    "    for n_samples in n_samples_grid:\n",
    "        type_1_error = aa_test(n_simulations, n_samples, conversion_rate, reward_avg, reward_std, alpha)\n",
    "        type_2_error = ab_test(n_simulations, n_samples, conversion_rate, mde, reward_avg, reward_std, alpha)\n",
    "        print(type_1_error)\n",
    "        print(type_2_error)\n",
    "        if type_1_error < alpha and type_2_error < beta:\n",
    "            return n_samples, type_1_error, type_2_error\n",
    "    \n",
    "    raise RuntimeError(\n",
    "        \"Can't find sample size. \"\n",
    "        f\"Last sample size: {n_samples}, \"\n",
    "        f\"last type 1 error: {type_1_error}, \"\n",
    "        f\"last type 2 error: {type_2_error}\"\n",
    "        \"Make sure that the grid is big enough.\"\n",
    "    )\n",
    "\n",
    "\n",
    "def select_mde(\n",
    "    n_samples: int,\n",
    "    n_simulations: int,\n",
    "    conversion_rate: float,\n",
    "    mde_grid: List[float],\n",
    "    reward_avg: float,\n",
    "    reward_std: float,\n",
    "    alpha: float = 0.05,\n",
    "    beta: float = 0.2,\n",
    ") -> Tuple[float, float]:\n",
    "    \"\"\"Select MDE.\"\"\"\n",
    "    for mde in mde_grid:\n",
    "        type_2_error = ab_test(n_simulations, n_samples, conversion_rate, mde, reward_avg, reward_std, alpha)\n",
    "        if type_2_error<beta:\n",
    "            return mde, type_2_error\n",
    "    \n",
    "    raise RuntimeError(\n",
    "        \"Can't find MDE. \"\n",
    "        f\"Last MDE: {mde}, \"\n",
    "        f\"last type 2 error: {type_2_error}. \"\n",
    "        \"Make sure that the grid is big enough.\"\n",
    "    )"
   ]
  },
  {
   "cell_type": "code",
   "execution_count": 34,
   "id": "e953f1bc",
   "metadata": {},
   "outputs": [
    {
     "name": "stderr",
     "output_type": "stream",
     "text": [
      "100%|██████████| 1000/1000 [00:00<00:00, 1558.31it/s]\n",
      "100%|██████████| 1000/1000 [00:00<00:00, 1594.07it/s]\n"
     ]
    },
    {
     "name": "stdout",
     "output_type": "stream",
     "text": [
      "0.052\n",
      "0.8089999999999999\n"
     ]
    },
    {
     "name": "stderr",
     "output_type": "stream",
     "text": [
      "100%|██████████| 1000/1000 [00:00<00:00, 1819.67it/s]\n",
      "100%|██████████| 1000/1000 [00:00<00:00, 1856.28it/s]\n"
     ]
    },
    {
     "name": "stdout",
     "output_type": "stream",
     "text": [
      "0.055\n",
      "0.32599999999999996\n"
     ]
    },
    {
     "name": "stderr",
     "output_type": "stream",
     "text": [
      "100%|██████████| 1000/1000 [00:00<00:00, 1596.69it/s]\n",
      "100%|██████████| 1000/1000 [00:00<00:00, 1609.94it/s]\n"
     ]
    },
    {
     "name": "stdout",
     "output_type": "stream",
     "text": [
      "0.052\n",
      "0.07099999999999995\n"
     ]
    },
    {
     "name": "stderr",
     "output_type": "stream",
     "text": [
      "100%|██████████| 1000/1000 [00:01<00:00, 665.14it/s]\n",
      "100%|██████████| 1000/1000 [00:01<00:00, 725.12it/s]"
     ]
    },
    {
     "name": "stdout",
     "output_type": "stream",
     "text": [
      "0.045\n",
      "0.0\n"
     ]
    },
    {
     "name": "stderr",
     "output_type": "stream",
     "text": [
      "\n"
     ]
    },
    {
     "data": {
      "text/plain": [
       "(5000, 0.045, 0.0)"
      ]
     },
     "execution_count": 34,
     "metadata": {},
     "output_type": "execute_result"
    }
   ],
   "source": [
    "select_sample_size(n_samples_grid=[100, 500, 1000, 5000, 10000, 50000], n_simulations=1000, conversion_rate=0.5, mde=0.15, reward_avg= 1, reward_std=0)"
   ]
  },
  {
   "cell_type": "code",
   "execution_count": 36,
   "id": "6e9babad",
   "metadata": {},
   "outputs": [
    {
     "name": "stderr",
     "output_type": "stream",
     "text": [
      "100%|██████████| 1000/1000 [00:01<00:00, 781.80it/s]\n",
      "100%|██████████| 1000/1000 [00:01<00:00, 856.91it/s]\n"
     ]
    },
    {
     "data": {
      "text/plain": [
       "(0.1, 0.0)"
      ]
     },
     "execution_count": 36,
     "metadata": {},
     "output_type": "execute_result"
    }
   ],
   "source": [
    "select_mde(n_samples = 5000, n_simulations=1000, conversion_rate=0.5, mde_grid=[0.01, 0.1, 0.15, 0.2], reward_avg= 1, reward_std=0)"
   ]
  },
  {
   "cell_type": "markdown",
   "id": "5a7cc20a",
   "metadata": {},
   "source": [
    "### Formula for Sample size, MDE\n",
    "(для нормально распределенных данных)\n",
    "\n",
    "\n",
    "$$ n > \\frac{[z_{\\alpha/2} + z_{beta}]^2  2\\sigma^2}{MDE^2} $$"
   ]
  },
  {
   "cell_type": "code",
   "execution_count": 56,
   "id": "bb17263b",
   "metadata": {},
   "outputs": [],
   "source": [
    "import math\n",
    "import numpy as np\n",
    "from scipy import stats\n",
    "\n",
    "\n",
    "\n",
    "def calculate_sample_size(\n",
    "    reward_avg: float, reward_std: float, mde: float, alpha: float, beta: float\n",
    ") -> int:\n",
    "    \"\"\"Calculate sample size.\n",
    "\n",
    "    Parameters\n",
    "    ----------\n",
    "    reward_avg: float :\n",
    "        average reward\n",
    "    reward_std: float :\n",
    "        standard deviation of reward\n",
    "    mde: float :\n",
    "        minimum detectable effect\n",
    "    alpha: float :\n",
    "        significance level\n",
    "    beta: float :\n",
    "        type 2 error probability\n",
    "\n",
    "    Returns\n",
    "    -------\n",
    "    int :\n",
    "        sample size\n",
    "\n",
    "    \"\"\"\n",
    "    assert mde > 0, \"mde should be greater than 0\"\n",
    "\n",
    "    z_alpha = stats.norm.ppf(1-alpha/2)\n",
    "    z_beta = stats.norm.ppf(1-beta)\n",
    "    sample_size = (z_alpha+z_beta)**2*2*reward_std**2/(reward_avg*mde)**2\n",
    "    return math.ceil(sample_size)"
   ]
  },
  {
   "cell_type": "code",
   "execution_count": 57,
   "id": "01350f5e",
   "metadata": {},
   "outputs": [],
   "source": [
    "def calculate_mde(\n",
    "    reward_std: float, sample_size: int, alpha: float, beta: float\n",
    ") -> float:\n",
    "    \"\"\"Calculate minimal detectable effect.\n",
    "\n",
    "    Parameters\n",
    "    ----------\n",
    "    reward_avg: float :\n",
    "        average reward\n",
    "    reward_std: float :\n",
    "        standard deviation of reward\n",
    "    sample_size: int :\n",
    "        sample size\n",
    "    alpha: float :\n",
    "        significance level\n",
    "    beta: float :\n",
    "        type 2 error probability\n",
    "\n",
    "    Returns\n",
    "    -------\n",
    "    float :\n",
    "        minimal detectable effect\n",
    "\n",
    "    \"\"\"\n",
    "    z_alpha = stats.norm.ppf(1-alpha/2)\n",
    "    z_beta = stats.norm.ppf(1-beta)\n",
    "    mde = (z_alpha+z_beta)*math.sqrt(2)*reward_std/(math.sqrt(sample_size))\n",
    "\n",
    "    return mde"
   ]
  },
  {
   "cell_type": "code",
   "execution_count": 69,
   "id": "bf634771",
   "metadata": {},
   "outputs": [
    {
     "data": {
      "text/plain": [
       "63"
      ]
     },
     "execution_count": 69,
     "metadata": {},
     "output_type": "execute_result"
    }
   ],
   "source": [
    "calculate_sample_size(reward_avg=5, reward_std=1, mde=0.1, alpha=0.05, beta=0.2)"
   ]
  },
  {
   "cell_type": "code",
   "execution_count": 70,
   "id": "6c575ed2",
   "metadata": {},
   "outputs": [
    {
     "data": {
      "text/plain": [
       "0.04991700964775749"
      ]
     },
     "execution_count": 70,
     "metadata": {},
     "output_type": "execute_result"
    }
   ],
   "source": [
    "calculate_mde(reward_std=0.1, sample_size=63, alpha=0.05, beta=0.2)"
   ]
  },
  {
   "cell_type": "code",
   "execution_count": null,
   "id": "14eb66fe",
   "metadata": {},
   "outputs": [],
   "source": []
  }
 ],
 "metadata": {
  "kernelspec": {
   "display_name": "Python 3",
   "language": "python",
   "name": "python3"
  },
  "language_info": {
   "codemirror_mode": {
    "name": "ipython",
    "version": 3
   },
   "file_extension": ".py",
   "mimetype": "text/x-python",
   "name": "python",
   "nbconvert_exporter": "python",
   "pygments_lexer": "ipython3",
   "version": "3.8.5"
  }
 },
 "nbformat": 4,
 "nbformat_minor": 5
}
