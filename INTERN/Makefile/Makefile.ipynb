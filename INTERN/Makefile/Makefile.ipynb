{
 "cells": [
  {
   "cell_type": "markdown",
   "id": "d406e542",
   "metadata": {},
   "source": [
    "## MAKEFILE\n",
    "\n",
    "C помощью **make** можно автоматизировать запуск скриптов и приложений, выполнение тестов и т.д\n",
    "\n",
    "Пример Makefile:\n",
    "```Python\n",
    "# Makefile for Python Project\n",
    "SHELL := /bin/bash\n",
    ".PHONY: install dataset fit predict fit-predict test clean\n",
    "\n",
    "# Install project dependencies\n",
    "install:\n",
    "    pip install -r requirements.txt\n",
    "\n",
    "# Prepare data\n",
    "dataset:\n",
    "    source /root/miniconda3/etc/profile.d/conda.sh && \\\n",
    "    conda activate eta && \\\n",
    "    python scripts/data_preparation.py\n",
    "\n",
    "# Train the model\n",
    "fit:\n",
    "    source /root/miniconda3/etc/profile.d/conda.sh && \\\n",
    "    conda activate eta && \\\n",
    "    python scripts/train_model.py\n",
    "\n",
    "# Make predictions\n",
    "predict:\n",
    "    source /root/miniconda3/etc/profile.d/conda.sh && \\\n",
    "    conda activate eta && \\\n",
    "    python scripts/predict.py\n",
    "\n",
    "# Train the model and make predictions\n",
    "fit-predict: fit predict\n",
    "\n",
    "# Run tests\n",
    "test:\n",
    "    source /root/miniconda3/etc/profile.d/conda.sh && \\\n",
    "    conda activate eta-test && \\\n",
    "    python -m unittest discover tests\n",
    "\n",
    "# Clean up temporary files\n",
    "clean:\n",
    "    rm -rf __pycache__\n",
    "```\n",
    "\n",
    "Если в командной строке ввести **make install**, то выполнится **pip install -r requirements.txt**"
   ]
  },
  {
   "cell_type": "code",
   "execution_count": 2,
   "id": "5f3f9435",
   "metadata": {},
   "outputs": [
    {
     "name": "stdout",
     "output_type": "stream",
     "text": [
      "python3 src/predict.py\n",
      "Predicted delivery time: 1 days\n"
     ]
    }
   ],
   "source": [
    "#В Makefile прописываем команды и запускаем их:\n",
    "!make predict"
   ]
  }
 ],
 "metadata": {
  "kernelspec": {
   "display_name": "Python 3",
   "language": "python",
   "name": "python3"
  },
  "language_info": {
   "codemirror_mode": {
    "name": "ipython",
    "version": 3
   },
   "file_extension": ".py",
   "mimetype": "text/x-python",
   "name": "python",
   "nbconvert_exporter": "python",
   "pygments_lexer": "ipython3",
   "version": "3.8.5"
  }
 },
 "nbformat": 4,
 "nbformat_minor": 5
}
