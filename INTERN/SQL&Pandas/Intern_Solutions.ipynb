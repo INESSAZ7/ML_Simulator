{
 "cells": [
  {
   "cell_type": "markdown",
   "id": "cabfeb85",
   "metadata": {},
   "source": [
    "# УРОВЕНЬ INTERN"
   ]
  },
  {
   "cell_type": "markdown",
   "id": "47875edd",
   "metadata": {},
   "source": [
    "## 2. SMAPE\n",
    "\n",
    "* MAPE (Mean Absolute Percentage Error) — метрика ошибки, учитывающая средний процент отклонения предсказываемого значения от реального.\n",
    "\n",
    "* sMAPE (от symmetric MAPE) — логическое продолжение MAPE, где в знаменателе стоит уже сумма модулей предсказания и факта, а не только факта"
   ]
  },
  {
   "cell_type": "code",
   "execution_count": 16,
   "id": "63daae6d",
   "metadata": {},
   "outputs": [],
   "source": [
    "import numpy as np\n",
    "\n",
    "def smape(y_true: np.array, y_pred: np.array) -> float:\n",
    "    denominator = np.abs(y_true) + np.abs(y_pred)\n",
    "    den = np.where(denominator > 0, 1, denominator)\n",
    "    return np.mean(2 * np.abs(y_true - y_pred) / den )"
   ]
  },
  {
   "cell_type": "code",
   "execution_count": 17,
   "id": "8d902e93",
   "metadata": {},
   "outputs": [
    {
     "data": {
      "text/plain": [
       "99.0"
      ]
     },
     "execution_count": 17,
     "metadata": {},
     "output_type": "execute_result"
    }
   ],
   "source": [
    "y_true = np.array(0.5)\n",
    "y_pred = np.array(50)\n",
    "a = smape(y_true, y_pred)\n",
    "a"
   ]
  },
  {
   "cell_type": "markdown",
   "id": "7c7dc8e8",
   "metadata": {},
   "source": [
    "## 3. VALID EMAILS\n",
    "\n",
    "https://docs.python.org/3/library/re.html\n",
    "\n",
    "Можно ускорить код засчет предварительной компиляции выражения"
   ]
  },
  {
   "cell_type": "code",
   "execution_count": 6,
   "id": "167b3d71",
   "metadata": {},
   "outputs": [],
   "source": [
    "import re\n",
    "from typing import List\n",
    "import time\n",
    "import numpy as np\n",
    "\n",
    "\n",
    "\n",
    "def valid_emails(strings: List[str]) -> List[str]:\n",
    "    \"\"\"Take list of potential emails and returns only valid ones\"\"\"\n",
    "\n",
    "    valid_email_regex = r\"^[a-zA-Z0-9_.+-]+@[a-zA-Z0-9-]+\\.[a-zA-Z]{2,}$\"\n",
    "    \n",
    "    def is_valid_email(email: str) -> bool:\n",
    "        return bool(re.fullmatch(valid_email_regex, email))\n",
    "    \n",
    "    start = time.perf_counter()\n",
    "    emails = []\n",
    "    for email in strings:\n",
    "        if is_valid_email(email):\n",
    "            emails.append(email)\n",
    "            \n",
    "    finish  = time.perf_counter() \n",
    "    \n",
    "    print(f\"Вычисление заняло {start - finish:0.4f} секунд\")         \n",
    "\n",
    "    return emails\n"
   ]
  },
  {
   "cell_type": "code",
   "execution_count": 7,
   "id": "2b051a2b",
   "metadata": {},
   "outputs": [],
   "source": [
    "def valid_emails_imrove(strings: List[str]) -> List[str]:\n",
    "    \"\"\"Take list of potential emails and returns only valid ones\"\"\"\n",
    "    valid_email_regex = r\"^[a-zA-Z0-9_.+-]+@[a-zA-Z0-9-]+\\.[a-zA-Z]{2,}$\"\n",
    "    valid = re.compile(valid_email_regex)\n",
    "    \n",
    "    def is_valid_email(email: str) -> bool:\n",
    "        return bool(valid.fullmatch(email))\n",
    "    \n",
    "    start = time.perf_counter()\n",
    "    emails = []\n",
    "    for email in strings:\n",
    "        if is_valid_email(email):\n",
    "            emails.append(email)\n",
    "    finish  = time.perf_counter()               \n",
    "    print(f\"Вычисление заняло {start - finish:0.4f} секунд\")\n",
    "    return emails"
   ]
  },
  {
   "cell_type": "code",
   "execution_count": 20,
   "id": "6c72bb42",
   "metadata": {},
   "outputs": [],
   "source": [
    "wrong = list(np.full(1000, 'sbsbfs@7hbhcw3'))\n",
    "right = list(np.full(10, 'sfsd@mail.ru'))\n",
    "emails = wrong+right"
   ]
  },
  {
   "cell_type": "code",
   "execution_count": 33,
   "id": "769be0f8",
   "metadata": {},
   "outputs": [
    {
     "name": "stdout",
     "output_type": "stream",
     "text": [
      "Вычисление заняло -0.0022 секунд\n"
     ]
    },
    {
     "data": {
      "text/plain": [
       "['sfsd@mail.ru',\n",
       " 'sfsd@mail.ru',\n",
       " 'sfsd@mail.ru',\n",
       " 'sfsd@mail.ru',\n",
       " 'sfsd@mail.ru',\n",
       " 'sfsd@mail.ru',\n",
       " 'sfsd@mail.ru',\n",
       " 'sfsd@mail.ru',\n",
       " 'sfsd@mail.ru',\n",
       " 'sfsd@mail.ru']"
      ]
     },
     "execution_count": 33,
     "metadata": {},
     "output_type": "execute_result"
    }
   ],
   "source": [
    "valid_emails(emails)"
   ]
  },
  {
   "cell_type": "code",
   "execution_count": 38,
   "id": "80b227a2",
   "metadata": {},
   "outputs": [
    {
     "name": "stdout",
     "output_type": "stream",
     "text": [
      "Вычисление заняло -0.0009 секунд\n"
     ]
    },
    {
     "data": {
      "text/plain": [
       "['sfsd@mail.ru',\n",
       " 'sfsd@mail.ru',\n",
       " 'sfsd@mail.ru',\n",
       " 'sfsd@mail.ru',\n",
       " 'sfsd@mail.ru',\n",
       " 'sfsd@mail.ru',\n",
       " 'sfsd@mail.ru',\n",
       " 'sfsd@mail.ru',\n",
       " 'sfsd@mail.ru',\n",
       " 'sfsd@mail.ru']"
      ]
     },
     "execution_count": 38,
     "metadata": {},
     "output_type": "execute_result"
    }
   ],
   "source": [
    "valid_emails_imrove(emails)"
   ]
  },
  {
   "cell_type": "markdown",
   "id": "026a53ad",
   "metadata": {},
   "source": [
    "## 4. Cold start\n",
    "Возьмем данные по количеству проданных товаров из задачи \"SKU SALES\" и заполним пропуски средним значением по имеющимся данным"
   ]
  },
  {
   "cell_type": "code",
   "execution_count": 5,
   "id": "0d2c30da",
   "metadata": {},
   "outputs": [
    {
     "data": {
      "text/html": [
       "<div>\n",
       "<style scoped>\n",
       "    .dataframe tbody tr th:only-of-type {\n",
       "        vertical-align: middle;\n",
       "    }\n",
       "\n",
       "    .dataframe tbody tr th {\n",
       "        vertical-align: top;\n",
       "    }\n",
       "\n",
       "    .dataframe thead th {\n",
       "        text-align: right;\n",
       "    }\n",
       "</style>\n",
       "<table border=\"1\" class=\"dataframe\">\n",
       "  <thead>\n",
       "    <tr style=\"text-align: right;\">\n",
       "      <th></th>\n",
       "      <th>days</th>\n",
       "      <th>sku</th>\n",
       "    </tr>\n",
       "  </thead>\n",
       "  <tbody>\n",
       "    <tr>\n",
       "      <th>0</th>\n",
       "      <td>2020-06-08</td>\n",
       "      <td>5</td>\n",
       "    </tr>\n",
       "    <tr>\n",
       "      <th>1</th>\n",
       "      <td>2020-06-10</td>\n",
       "      <td>5</td>\n",
       "    </tr>\n",
       "    <tr>\n",
       "      <th>2</th>\n",
       "      <td>2021-01-01</td>\n",
       "      <td>378</td>\n",
       "    </tr>\n",
       "    <tr>\n",
       "      <th>3</th>\n",
       "      <td>2021-01-02</td>\n",
       "      <td>1020</td>\n",
       "    </tr>\n",
       "    <tr>\n",
       "      <th>4</th>\n",
       "      <td>2021-01-03</td>\n",
       "      <td>2581</td>\n",
       "    </tr>\n",
       "  </tbody>\n",
       "</table>\n",
       "</div>"
      ],
      "text/plain": [
       "         days   sku\n",
       "0  2020-06-08     5\n",
       "1  2020-06-10     5\n",
       "2  2021-01-01   378\n",
       "3  2021-01-02  1020\n",
       "4  2021-01-03  2581"
      ]
     },
     "execution_count": 5,
     "metadata": {},
     "output_type": "execute_result"
    }
   ],
   "source": [
    "import pandas as pd\n",
    "import numpy as np\n",
    "\n",
    "df = pd.read_excel('sku_sales.xlsx')\n",
    "df.head()"
   ]
  },
  {
   "cell_type": "code",
   "execution_count": 6,
   "id": "4c6c165e",
   "metadata": {},
   "outputs": [],
   "source": [
    "# Заменили все значения продаж в январе 2021 на na для проверки работоспособности функции\n",
    "df.loc[df['days'].str.contains('2021-01'), 'sku'] = None\n",
    "\n",
    "# Создаем столбец для дальнейшей группировки и подсчета среднего\n",
    "df['day'] = df.days.apply(lambda x: x.split('-')[2])"
   ]
  },
  {
   "cell_type": "code",
   "execution_count": 7,
   "id": "8f59cfc9",
   "metadata": {},
   "outputs": [],
   "source": [
    "import pandas as pd\n",
    "import numpy as np\n",
    "\n",
    "\n",
    "def fillna_with_mean(\n",
    "    df: pd.DataFrame, target: str, group: str\n",
    ") -> pd.DataFrame:\n",
    "    df_new = df.copy() #важно не забывать делать копию, иначе изменим изначальный датафрейм\n",
    "    group = df_new.groupby(group)[target].transform('mean')\n",
    "    df_new.loc[df[target].isnull(), target] = group.apply(np.floor)\n",
    "    return df_new\n"
   ]
  },
  {
   "cell_type": "code",
   "execution_count": 8,
   "id": "8e6bc783",
   "metadata": {},
   "outputs": [
    {
     "data": {
      "text/html": [
       "<div>\n",
       "<style scoped>\n",
       "    .dataframe tbody tr th:only-of-type {\n",
       "        vertical-align: middle;\n",
       "    }\n",
       "\n",
       "    .dataframe tbody tr th {\n",
       "        vertical-align: top;\n",
       "    }\n",
       "\n",
       "    .dataframe thead th {\n",
       "        text-align: right;\n",
       "    }\n",
       "</style>\n",
       "<table border=\"1\" class=\"dataframe\">\n",
       "  <thead>\n",
       "    <tr style=\"text-align: right;\">\n",
       "      <th></th>\n",
       "      <th>days</th>\n",
       "      <th>sku</th>\n",
       "      <th>day</th>\n",
       "    </tr>\n",
       "  </thead>\n",
       "  <tbody>\n",
       "    <tr>\n",
       "      <th>0</th>\n",
       "      <td>2020-06-08</td>\n",
       "      <td>5.0</td>\n",
       "      <td>08</td>\n",
       "    </tr>\n",
       "    <tr>\n",
       "      <th>1</th>\n",
       "      <td>2020-06-10</td>\n",
       "      <td>5.0</td>\n",
       "      <td>10</td>\n",
       "    </tr>\n",
       "    <tr>\n",
       "      <th>2</th>\n",
       "      <td>2021-01-01</td>\n",
       "      <td>9343.0</td>\n",
       "      <td>01</td>\n",
       "    </tr>\n",
       "    <tr>\n",
       "      <th>3</th>\n",
       "      <td>2021-01-02</td>\n",
       "      <td>10509.0</td>\n",
       "      <td>02</td>\n",
       "    </tr>\n",
       "    <tr>\n",
       "      <th>4</th>\n",
       "      <td>2021-01-03</td>\n",
       "      <td>10308.0</td>\n",
       "      <td>03</td>\n",
       "    </tr>\n",
       "    <tr>\n",
       "      <th>...</th>\n",
       "      <td>...</td>\n",
       "      <td>...</td>\n",
       "      <td>...</td>\n",
       "    </tr>\n",
       "    <tr>\n",
       "      <th>361</th>\n",
       "      <td>2021-12-26</td>\n",
       "      <td>1081.0</td>\n",
       "      <td>26</td>\n",
       "    </tr>\n",
       "    <tr>\n",
       "      <th>362</th>\n",
       "      <td>2021-12-27</td>\n",
       "      <td>12879.0</td>\n",
       "      <td>27</td>\n",
       "    </tr>\n",
       "    <tr>\n",
       "      <th>363</th>\n",
       "      <td>2021-12-28</td>\n",
       "      <td>1588.0</td>\n",
       "      <td>28</td>\n",
       "    </tr>\n",
       "    <tr>\n",
       "      <th>364</th>\n",
       "      <td>2021-12-29</td>\n",
       "      <td>14686.0</td>\n",
       "      <td>29</td>\n",
       "    </tr>\n",
       "    <tr>\n",
       "      <th>365</th>\n",
       "      <td>2021-12-30</td>\n",
       "      <td>14766.0</td>\n",
       "      <td>30</td>\n",
       "    </tr>\n",
       "  </tbody>\n",
       "</table>\n",
       "<p>366 rows × 3 columns</p>\n",
       "</div>"
      ],
      "text/plain": [
       "           days      sku day\n",
       "0    2020-06-08      5.0  08\n",
       "1    2020-06-10      5.0  10\n",
       "2    2021-01-01   9343.0  01\n",
       "3    2021-01-02  10509.0  02\n",
       "4    2021-01-03  10308.0  03\n",
       "..          ...      ...  ..\n",
       "361  2021-12-26   1081.0  26\n",
       "362  2021-12-27  12879.0  27\n",
       "363  2021-12-28   1588.0  28\n",
       "364  2021-12-29  14686.0  29\n",
       "365  2021-12-30  14766.0  30\n",
       "\n",
       "[366 rows x 3 columns]"
      ]
     },
     "execution_count": 8,
     "metadata": {},
     "output_type": "execute_result"
    }
   ],
   "source": [
    "df_new = fillna_with_mean(df, 'sku', 'day')\n",
    "df_new"
   ]
  },
  {
   "cell_type": "code",
   "execution_count": 9,
   "id": "70652cae",
   "metadata": {},
   "outputs": [
    {
     "data": {
      "text/html": [
       "<div>\n",
       "<style scoped>\n",
       "    .dataframe tbody tr th:only-of-type {\n",
       "        vertical-align: middle;\n",
       "    }\n",
       "\n",
       "    .dataframe tbody tr th {\n",
       "        vertical-align: top;\n",
       "    }\n",
       "\n",
       "    .dataframe thead th {\n",
       "        text-align: right;\n",
       "    }\n",
       "</style>\n",
       "<table border=\"1\" class=\"dataframe\">\n",
       "  <thead>\n",
       "    <tr style=\"text-align: right;\">\n",
       "      <th></th>\n",
       "      <th>days</th>\n",
       "      <th>sku</th>\n",
       "      <th>day</th>\n",
       "    </tr>\n",
       "  </thead>\n",
       "  <tbody>\n",
       "    <tr>\n",
       "      <th>0</th>\n",
       "      <td>2020-06-08</td>\n",
       "      <td>5.0</td>\n",
       "      <td>08</td>\n",
       "    </tr>\n",
       "    <tr>\n",
       "      <th>1</th>\n",
       "      <td>2020-06-10</td>\n",
       "      <td>5.0</td>\n",
       "      <td>10</td>\n",
       "    </tr>\n",
       "    <tr>\n",
       "      <th>2</th>\n",
       "      <td>2021-01-01</td>\n",
       "      <td>NaN</td>\n",
       "      <td>01</td>\n",
       "    </tr>\n",
       "    <tr>\n",
       "      <th>3</th>\n",
       "      <td>2021-01-02</td>\n",
       "      <td>NaN</td>\n",
       "      <td>02</td>\n",
       "    </tr>\n",
       "    <tr>\n",
       "      <th>4</th>\n",
       "      <td>2021-01-03</td>\n",
       "      <td>NaN</td>\n",
       "      <td>03</td>\n",
       "    </tr>\n",
       "    <tr>\n",
       "      <th>...</th>\n",
       "      <td>...</td>\n",
       "      <td>...</td>\n",
       "      <td>...</td>\n",
       "    </tr>\n",
       "    <tr>\n",
       "      <th>361</th>\n",
       "      <td>2021-12-26</td>\n",
       "      <td>1081.0</td>\n",
       "      <td>26</td>\n",
       "    </tr>\n",
       "    <tr>\n",
       "      <th>362</th>\n",
       "      <td>2021-12-27</td>\n",
       "      <td>12879.0</td>\n",
       "      <td>27</td>\n",
       "    </tr>\n",
       "    <tr>\n",
       "      <th>363</th>\n",
       "      <td>2021-12-28</td>\n",
       "      <td>1588.0</td>\n",
       "      <td>28</td>\n",
       "    </tr>\n",
       "    <tr>\n",
       "      <th>364</th>\n",
       "      <td>2021-12-29</td>\n",
       "      <td>14686.0</td>\n",
       "      <td>29</td>\n",
       "    </tr>\n",
       "    <tr>\n",
       "      <th>365</th>\n",
       "      <td>2021-12-30</td>\n",
       "      <td>14766.0</td>\n",
       "      <td>30</td>\n",
       "    </tr>\n",
       "  </tbody>\n",
       "</table>\n",
       "<p>366 rows × 3 columns</p>\n",
       "</div>"
      ],
      "text/plain": [
       "           days      sku day\n",
       "0    2020-06-08      5.0  08\n",
       "1    2020-06-10      5.0  10\n",
       "2    2021-01-01      NaN  01\n",
       "3    2021-01-02      NaN  02\n",
       "4    2021-01-03      NaN  03\n",
       "..          ...      ...  ..\n",
       "361  2021-12-26   1081.0  26\n",
       "362  2021-12-27  12879.0  27\n",
       "363  2021-12-28   1588.0  28\n",
       "364  2021-12-29  14686.0  29\n",
       "365  2021-12-30  14766.0  30\n",
       "\n",
       "[366 rows x 3 columns]"
      ]
     },
     "execution_count": 9,
     "metadata": {},
     "output_type": "execute_result"
    }
   ],
   "source": [
    "df"
   ]
  },
  {
   "cell_type": "markdown",
   "id": "0bf68407",
   "metadata": {},
   "source": [
    "## 5. Stocks\n",
    "\n",
    "* SKU (Stock Keeping Unit), уникальный ID товара (тип int)\n",
    "* GMV (Gross Merchandise Volume), аналог розничного товарооборота (тип float)\n",
    "* stock – число единиц товара на складе (тип int)\n",
    "* price – цена на товар (тип float)\n",
    "\n",
    "**Notes:**\n",
    "'/' - деление, '//' -целочисленное деление; '/' и округление работает быстрее\n",
    "\n",
    "Ex.: 5 / 2 will return 2.5 and 5 // 2 will return 2"
   ]
  },
  {
   "cell_type": "code",
   "execution_count": 2,
   "id": "3f083e16",
   "metadata": {},
   "outputs": [
    {
     "data": {
      "text/html": [
       "<div>\n",
       "<style scoped>\n",
       "    .dataframe tbody tr th:only-of-type {\n",
       "        vertical-align: middle;\n",
       "    }\n",
       "\n",
       "    .dataframe tbody tr th {\n",
       "        vertical-align: top;\n",
       "    }\n",
       "\n",
       "    .dataframe thead th {\n",
       "        text-align: right;\n",
       "    }\n",
       "</style>\n",
       "<table border=\"1\" class=\"dataframe\">\n",
       "  <thead>\n",
       "    <tr style=\"text-align: right;\">\n",
       "      <th></th>\n",
       "      <th>sku</th>\n",
       "      <th>gmv</th>\n",
       "      <th>price</th>\n",
       "      <th>stock</th>\n",
       "    </tr>\n",
       "  </thead>\n",
       "  <tbody>\n",
       "    <tr>\n",
       "      <th>0</th>\n",
       "      <td>100</td>\n",
       "      <td>400</td>\n",
       "      <td>100</td>\n",
       "      <td>3</td>\n",
       "    </tr>\n",
       "    <tr>\n",
       "      <th>1</th>\n",
       "      <td>200</td>\n",
       "      <td>350</td>\n",
       "      <td>70</td>\n",
       "      <td>10</td>\n",
       "    </tr>\n",
       "    <tr>\n",
       "      <th>2</th>\n",
       "      <td>300</td>\n",
       "      <td>500</td>\n",
       "      <td>120</td>\n",
       "      <td>5</td>\n",
       "    </tr>\n",
       "  </tbody>\n",
       "</table>\n",
       "</div>"
      ],
      "text/plain": [
       "   sku  gmv  price  stock\n",
       "0  100  400    100      3\n",
       "1  200  350     70     10\n",
       "2  300  500    120      5"
      ]
     },
     "execution_count": 2,
     "metadata": {},
     "output_type": "execute_result"
    }
   ],
   "source": [
    "import pandas as pd\n",
    "df_p = pd.read_excel('stocks.xlsx')\n",
    "df_p"
   ]
  },
  {
   "cell_type": "code",
   "execution_count": 3,
   "id": "0d5cdd2b",
   "metadata": {},
   "outputs": [],
   "source": [
    "def limit_gmv(df: pd.DataFrame):\n",
    "    df.loc[df.price*df.stock < df.gmv, 'gmv'] = df.price*df.stock\n",
    "    df.loc[df.gmv%df.price != 0, 'gmv'] = round(df.gmv/df.price)*df['price']     \n",
    "    return df"
   ]
  },
  {
   "cell_type": "code",
   "execution_count": 4,
   "id": "8a5be0a3",
   "metadata": {},
   "outputs": [
    {
     "data": {
      "text/html": [
       "<div>\n",
       "<style scoped>\n",
       "    .dataframe tbody tr th:only-of-type {\n",
       "        vertical-align: middle;\n",
       "    }\n",
       "\n",
       "    .dataframe tbody tr th {\n",
       "        vertical-align: top;\n",
       "    }\n",
       "\n",
       "    .dataframe thead th {\n",
       "        text-align: right;\n",
       "    }\n",
       "</style>\n",
       "<table border=\"1\" class=\"dataframe\">\n",
       "  <thead>\n",
       "    <tr style=\"text-align: right;\">\n",
       "      <th></th>\n",
       "      <th>sku</th>\n",
       "      <th>gmv</th>\n",
       "      <th>price</th>\n",
       "      <th>stock</th>\n",
       "    </tr>\n",
       "  </thead>\n",
       "  <tbody>\n",
       "    <tr>\n",
       "      <th>0</th>\n",
       "      <td>100</td>\n",
       "      <td>300</td>\n",
       "      <td>100</td>\n",
       "      <td>3</td>\n",
       "    </tr>\n",
       "    <tr>\n",
       "      <th>1</th>\n",
       "      <td>200</td>\n",
       "      <td>350</td>\n",
       "      <td>70</td>\n",
       "      <td>10</td>\n",
       "    </tr>\n",
       "    <tr>\n",
       "      <th>2</th>\n",
       "      <td>300</td>\n",
       "      <td>480</td>\n",
       "      <td>120</td>\n",
       "      <td>5</td>\n",
       "    </tr>\n",
       "  </tbody>\n",
       "</table>\n",
       "</div>"
      ],
      "text/plain": [
       "   sku  gmv  price  stock\n",
       "0  100  300    100      3\n",
       "1  200  350     70     10\n",
       "2  300  480    120      5"
      ]
     },
     "execution_count": 4,
     "metadata": {},
     "output_type": "execute_result"
    }
   ],
   "source": [
    "limit_gmv(df_p)"
   ]
  },
  {
   "cell_type": "code",
   "execution_count": 11,
   "id": "7fe26718",
   "metadata": {},
   "outputs": [],
   "source": [
    "def limit_gmv(df: pd.DataFrame):\n",
    "    \"\"\"Принимает на вход датафрейм с предсказанием оборота,\n",
    "        возвращает обработанные датафрейм\"\"\"\n",
    "    df = df.copy()\n",
    "    df['gmv'] = ((df.gmv/df.price).astype(int) * df['price']) \\\n",
    "                                .clip(upper = df.price*df.stock) \n",
    "    return df"
   ]
  },
  {
   "cell_type": "code",
   "execution_count": 12,
   "id": "12acb1b8",
   "metadata": {},
   "outputs": [
    {
     "data": {
      "text/html": [
       "<div>\n",
       "<style scoped>\n",
       "    .dataframe tbody tr th:only-of-type {\n",
       "        vertical-align: middle;\n",
       "    }\n",
       "\n",
       "    .dataframe tbody tr th {\n",
       "        vertical-align: top;\n",
       "    }\n",
       "\n",
       "    .dataframe thead th {\n",
       "        text-align: right;\n",
       "    }\n",
       "</style>\n",
       "<table border=\"1\" class=\"dataframe\">\n",
       "  <thead>\n",
       "    <tr style=\"text-align: right;\">\n",
       "      <th></th>\n",
       "      <th>sku</th>\n",
       "      <th>gmv</th>\n",
       "      <th>price</th>\n",
       "      <th>stock</th>\n",
       "    </tr>\n",
       "  </thead>\n",
       "  <tbody>\n",
       "    <tr>\n",
       "      <th>0</th>\n",
       "      <td>100</td>\n",
       "      <td>300</td>\n",
       "      <td>100</td>\n",
       "      <td>3</td>\n",
       "    </tr>\n",
       "    <tr>\n",
       "      <th>1</th>\n",
       "      <td>200</td>\n",
       "      <td>350</td>\n",
       "      <td>70</td>\n",
       "      <td>10</td>\n",
       "    </tr>\n",
       "    <tr>\n",
       "      <th>2</th>\n",
       "      <td>300</td>\n",
       "      <td>480</td>\n",
       "      <td>120</td>\n",
       "      <td>5</td>\n",
       "    </tr>\n",
       "  </tbody>\n",
       "</table>\n",
       "</div>"
      ],
      "text/plain": [
       "   sku  gmv  price  stock\n",
       "0  100  300    100      3\n",
       "1  200  350     70     10\n",
       "2  300  480    120      5"
      ]
     },
     "execution_count": 12,
     "metadata": {},
     "output_type": "execute_result"
    }
   ],
   "source": [
    "limit_gmv(df_p)"
   ]
  }
 ],
 "metadata": {
  "kernelspec": {
   "display_name": "Python 3",
   "language": "python",
   "name": "python3"
  },
  "language_info": {
   "codemirror_mode": {
    "name": "ipython",
    "version": 3
   },
   "file_extension": ".py",
   "mimetype": "text/x-python",
   "name": "python",
   "nbconvert_exporter": "python",
   "pygments_lexer": "ipython3",
   "version": "3.8.5"
  }
 },
 "nbformat": 4,
 "nbformat_minor": 5
}
