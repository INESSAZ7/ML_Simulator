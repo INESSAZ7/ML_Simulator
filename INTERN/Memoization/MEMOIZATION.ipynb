{
 "cells": [
  {
   "cell_type": "markdown",
   "id": "c3ded27d",
   "metadata": {},
   "source": [
    "##  Изменяемые и неизменяемые типы\n",
    "*Чтобы узнать, является ли объект изменяемым, попробуйте взять у него хэш*\n",
    "\n",
    "https://www.geeksforgeeks.org/args-kwargs-python/"
   ]
  },
  {
   "cell_type": "code",
   "execution_count": 1,
   "id": "3c47c3aa",
   "metadata": {},
   "outputs": [],
   "source": [
    "#Step-1"
   ]
  },
  {
   "cell_type": "code",
   "execution_count": 2,
   "id": "a7089522",
   "metadata": {},
   "outputs": [],
   "source": [
    "from typing import Callable\n",
    "import time\n",
    "\n",
    "def timer(func: Callable):\n",
    "    # We define a function that takes the same arguments\n",
    "    # as func, but now we add some extra behavior to it,\n",
    "    # in our case we track it's running time\n",
    "    def wrapped(x: int, y: int) -> float:\n",
    "        # We do some stuff before running the function\n",
    "        start = time.time()\n",
    "\n",
    "        # We run function as usual\n",
    "        result = func(x, y)\n",
    "\n",
    "        # Some behavior after running\n",
    "        end = time.time()\n",
    "        duration = round(1000 * (end - start), 1)\n",
    "        print(f\"{func.__name__} was run in {duration} ms\")\n",
    "\n",
    "        # Return the result of the original function\n",
    "        return result\n",
    "\n",
    "    return wrapped\n",
    "\n",
    "\n",
    "@timer\n",
    "def slow_conversion_rate(conversions: int, clicks: int) -> float:\n",
    "    time.sleep(0.01)\n",
    "    return conversions / clicks"
   ]
  },
  {
   "cell_type": "code",
   "execution_count": 3,
   "id": "35f3aad6",
   "metadata": {},
   "outputs": [
    {
     "name": "stdout",
     "output_type": "stream",
     "text": [
      "slow_conversion_rate was run in 10.3 ms\n"
     ]
    },
    {
     "data": {
      "text/plain": [
       "0.5"
      ]
     },
     "execution_count": 3,
     "metadata": {},
     "output_type": "execute_result"
    }
   ],
   "source": [
    "slow_conversion_rate(2,4)"
   ]
  },
  {
   "cell_type": "code",
   "execution_count": 4,
   "id": "e78a6970",
   "metadata": {},
   "outputs": [],
   "source": [
    "#Step-2"
   ]
  },
  {
   "cell_type": "code",
   "execution_count": 5,
   "id": "1241a8e0",
   "metadata": {},
   "outputs": [],
   "source": [
    "from typing import Callable\n",
    "\n",
    "\n",
    "def memoize(func: Callable) -> Callable:\n",
    "    \"\"\"Memoize function\"\"\"\n",
    "    cache = {}\n",
    "    def wrapped(*argv, **kwargs):\n",
    "        print(cache)\n",
    "        key = str(argv) + str(kwargs)\n",
    "        if key not in cache:\n",
    "            cache[key] = func(*argv, **kwargs)\n",
    "        \n",
    "        return cache[key]\n",
    "    return wrapped\n",
    "\n",
    "\n",
    "    "
   ]
  },
  {
   "cell_type": "code",
   "execution_count": 6,
   "id": "7db00205",
   "metadata": {},
   "outputs": [],
   "source": [
    "@memoize\n",
    "def slow_conversion_rate(conversions: int, clicks: int) -> float:\n",
    "    return conversions / clicks"
   ]
  },
  {
   "cell_type": "code",
   "execution_count": 7,
   "id": "93aacdb5",
   "metadata": {},
   "outputs": [
    {
     "name": "stdout",
     "output_type": "stream",
     "text": [
      "{}\n"
     ]
    },
    {
     "data": {
      "text/plain": [
       "1.75"
      ]
     },
     "execution_count": 7,
     "metadata": {},
     "output_type": "execute_result"
    }
   ],
   "source": [
    "slow_conversion_rate(7,4)"
   ]
  }
 ],
 "metadata": {
  "kernelspec": {
   "display_name": "Python 3",
   "language": "python",
   "name": "python3"
  },
  "language_info": {
   "codemirror_mode": {
    "name": "ipython",
    "version": 3
   },
   "file_extension": ".py",
   "mimetype": "text/x-python",
   "name": "python",
   "nbconvert_exporter": "python",
   "pygments_lexer": "ipython3",
   "version": "3.8.5"
  }
 },
 "nbformat": 4,
 "nbformat_minor": 5
}
