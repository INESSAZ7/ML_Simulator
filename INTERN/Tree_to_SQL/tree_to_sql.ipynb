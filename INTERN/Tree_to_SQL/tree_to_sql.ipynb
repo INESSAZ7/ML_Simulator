{
 "cells": [
  {
   "cell_type": "markdown",
   "id": "0a8a00a5",
   "metadata": {},
   "source": [
    "###  Desicion tree to json\n",
    "\n",
    "**Как строится дерево решений; Энтропия; Критерии качества разбиения**:\n",
    "- https://habr.com/ru/companies/ods/articles/322534/ \n",
    "\n",
    "**Note**:\n",
    "- tree_.value = [20, 34]: 20 элементов класса 0 и 34 - класса 1"
   ]
  },
  {
   "cell_type": "code",
   "execution_count": 45,
   "id": "5d0d08de",
   "metadata": {},
   "outputs": [],
   "source": [
    "import json\n",
    "from sklearn.tree import DecisionTreeClassifier\n",
    "\n",
    "\n",
    "def _convert_tree(tree: DecisionTreeClassifier, node_index: int) -> dict:\n",
    "    \n",
    "    is_leaf = tree.children_left[node_index] == -1 and tree.children_right[node_index] == -1\n",
    "    \n",
    "    if is_leaf:\n",
    "        return {\"class\": int(tree.value[node_index].argmax())}\n",
    "    else:\n",
    "        feature_index = int(tree.feature[node_index])\n",
    "        threshold = float(tree.threshold[node_index])\n",
    "        left_child_index = tree.children_left[node_index]\n",
    "        right_child_index = tree.children_right[node_index]\n",
    "        return {\n",
    "                \"feature_index\": feature_index,\n",
    "                \"threshold\": round(threshold,4),\n",
    "                \"left\":  _convert_tree(tree, left_child_index),\n",
    "                \"right\":  _convert_tree(tree, right_child_index)\n",
    "        }\n",
    "\n",
    "def convert_tree_to_json(tree: DecisionTreeClassifier) -> str:\n",
    "    node_index = 0\n",
    "    dct_tree = _convert_tree(tree.tree_, node_index)\n",
    "    tree_as_json = json.dumps(dct_tree)\n",
    "    return tree_as_json"
   ]
  },
  {
   "cell_type": "code",
   "execution_count": 46,
   "id": "6dcb4490",
   "metadata": {},
   "outputs": [],
   "source": [
    "#Создаем синтетический датасет\n",
    "from sklearn.datasets import make_classification\n",
    "\n",
    "X, y = make_classification(\n",
    "    n_samples=100, # observations \n",
    "    n_features=5, # 5 total features\n",
    "    n_informative=3, # 3 'useful' features\n",
    "    n_classes=2, # binary target/label \n",
    "    random_state=999 # if you want the same results\n",
    ")"
   ]
  },
  {
   "cell_type": "code",
   "execution_count": 47,
   "id": "8bd1192e",
   "metadata": {},
   "outputs": [
    {
     "data": {
      "text/html": [
       "<style>#sk-container-id-9 {color: black;background-color: white;}#sk-container-id-9 pre{padding: 0;}#sk-container-id-9 div.sk-toggleable {background-color: white;}#sk-container-id-9 label.sk-toggleable__label {cursor: pointer;display: block;width: 100%;margin-bottom: 0;padding: 0.3em;box-sizing: border-box;text-align: center;}#sk-container-id-9 label.sk-toggleable__label-arrow:before {content: \"▸\";float: left;margin-right: 0.25em;color: #696969;}#sk-container-id-9 label.sk-toggleable__label-arrow:hover:before {color: black;}#sk-container-id-9 div.sk-estimator:hover label.sk-toggleable__label-arrow:before {color: black;}#sk-container-id-9 div.sk-toggleable__content {max-height: 0;max-width: 0;overflow: hidden;text-align: left;background-color: #f0f8ff;}#sk-container-id-9 div.sk-toggleable__content pre {margin: 0.2em;color: black;border-radius: 0.25em;background-color: #f0f8ff;}#sk-container-id-9 input.sk-toggleable__control:checked~div.sk-toggleable__content {max-height: 200px;max-width: 100%;overflow: auto;}#sk-container-id-9 input.sk-toggleable__control:checked~label.sk-toggleable__label-arrow:before {content: \"▾\";}#sk-container-id-9 div.sk-estimator input.sk-toggleable__control:checked~label.sk-toggleable__label {background-color: #d4ebff;}#sk-container-id-9 div.sk-label input.sk-toggleable__control:checked~label.sk-toggleable__label {background-color: #d4ebff;}#sk-container-id-9 input.sk-hidden--visually {border: 0;clip: rect(1px 1px 1px 1px);clip: rect(1px, 1px, 1px, 1px);height: 1px;margin: -1px;overflow: hidden;padding: 0;position: absolute;width: 1px;}#sk-container-id-9 div.sk-estimator {font-family: monospace;background-color: #f0f8ff;border: 1px dotted black;border-radius: 0.25em;box-sizing: border-box;margin-bottom: 0.5em;}#sk-container-id-9 div.sk-estimator:hover {background-color: #d4ebff;}#sk-container-id-9 div.sk-parallel-item::after {content: \"\";width: 100%;border-bottom: 1px solid gray;flex-grow: 1;}#sk-container-id-9 div.sk-label:hover label.sk-toggleable__label {background-color: #d4ebff;}#sk-container-id-9 div.sk-serial::before {content: \"\";position: absolute;border-left: 1px solid gray;box-sizing: border-box;top: 0;bottom: 0;left: 50%;z-index: 0;}#sk-container-id-9 div.sk-serial {display: flex;flex-direction: column;align-items: center;background-color: white;padding-right: 0.2em;padding-left: 0.2em;position: relative;}#sk-container-id-9 div.sk-item {position: relative;z-index: 1;}#sk-container-id-9 div.sk-parallel {display: flex;align-items: stretch;justify-content: center;background-color: white;position: relative;}#sk-container-id-9 div.sk-item::before, #sk-container-id-9 div.sk-parallel-item::before {content: \"\";position: absolute;border-left: 1px solid gray;box-sizing: border-box;top: 0;bottom: 0;left: 50%;z-index: -1;}#sk-container-id-9 div.sk-parallel-item {display: flex;flex-direction: column;z-index: 1;position: relative;background-color: white;}#sk-container-id-9 div.sk-parallel-item:first-child::after {align-self: flex-end;width: 50%;}#sk-container-id-9 div.sk-parallel-item:last-child::after {align-self: flex-start;width: 50%;}#sk-container-id-9 div.sk-parallel-item:only-child::after {width: 0;}#sk-container-id-9 div.sk-dashed-wrapped {border: 1px dashed gray;margin: 0 0.4em 0.5em 0.4em;box-sizing: border-box;padding-bottom: 0.4em;background-color: white;}#sk-container-id-9 div.sk-label label {font-family: monospace;font-weight: bold;display: inline-block;line-height: 1.2em;}#sk-container-id-9 div.sk-label-container {text-align: center;}#sk-container-id-9 div.sk-container {/* jupyter's `normalize.less` sets `[hidden] { display: none; }` but bootstrap.min.css set `[hidden] { display: none !important; }` so we also need the `!important` here to be able to override the default hidden behavior on the sphinx rendered scikit-learn.org. See: https://github.com/scikit-learn/scikit-learn/issues/21755 */display: inline-block !important;position: relative;}#sk-container-id-9 div.sk-text-repr-fallback {display: none;}</style><div id=\"sk-container-id-9\" class=\"sk-top-container\"><div class=\"sk-text-repr-fallback\"><pre>DecisionTreeClassifier()</pre><b>In a Jupyter environment, please rerun this cell to show the HTML representation or trust the notebook. <br />On GitHub, the HTML representation is unable to render, please try loading this page with nbviewer.org.</b></div><div class=\"sk-container\" hidden><div class=\"sk-item\"><div class=\"sk-estimator sk-toggleable\"><input class=\"sk-toggleable__control sk-hidden--visually\" id=\"sk-estimator-id-9\" type=\"checkbox\" checked><label for=\"sk-estimator-id-9\" class=\"sk-toggleable__label sk-toggleable__label-arrow\">DecisionTreeClassifier</label><div class=\"sk-toggleable__content\"><pre>DecisionTreeClassifier()</pre></div></div></div></div></div>"
      ],
      "text/plain": [
       "DecisionTreeClassifier()"
      ]
     },
     "execution_count": 47,
     "metadata": {},
     "output_type": "execute_result"
    }
   ],
   "source": [
    "from sklearn.tree import DecisionTreeClassifier\n",
    "\n",
    "# Train decision tree\n",
    "model = DecisionTreeClassifier()\n",
    "model.fit(X, y)"
   ]
  },
  {
   "cell_type": "code",
   "execution_count": 48,
   "id": "af7d4e06",
   "metadata": {},
   "outputs": [
    {
     "data": {
      "text/plain": [
       "'{\"feature_index\": 0, \"threshold\": 0.1395, \"left\": {\"feature_index\": 3, \"threshold\": -0.6881, \"left\": {\"feature_index\": 2, \"threshold\": 0.3686, \"left\": {\"class\": 1}, \"right\": {\"class\": 0}}, \"right\": {\"feature_index\": 3, \"threshold\": 0.3453, \"left\": {\"feature_index\": 2, \"threshold\": 0.5135, \"left\": {\"feature_index\": 1, \"threshold\": 0.2244, \"left\": {\"class\": 1}, \"right\": {\"class\": 0}}, \"right\": {\"feature_index\": 1, \"threshold\": 0.7156, \"left\": {\"class\": 0}, \"right\": {\"class\": 1}}}, \"right\": {\"class\": 1}}}, \"right\": {\"feature_index\": 3, \"threshold\": -0.4706, \"left\": {\"feature_index\": 3, \"threshold\": -2.534, \"left\": {\"class\": 0}, \"right\": {\"feature_index\": 3, \"threshold\": -1.0829, \"left\": {\"class\": 1}, \"right\": {\"feature_index\": 4, \"threshold\": 1.4327, \"left\": {\"class\": 0}, \"right\": {\"feature_index\": 1, \"threshold\": -5.0584, \"left\": {\"class\": 0}, \"right\": {\"class\": 1}}}}}, \"right\": {\"class\": 0}}}'"
      ]
     },
     "execution_count": 48,
     "metadata": {},
     "output_type": "execute_result"
    }
   ],
   "source": [
    "convert_tree_to_json(model)"
   ]
  },
  {
   "cell_type": "code",
   "execution_count": null,
   "id": "ef052847",
   "metadata": {},
   "outputs": [],
   "source": []
  },
  {
   "cell_type": "code",
   "execution_count": null,
   "id": "467f6296",
   "metadata": {},
   "outputs": [],
   "source": []
  }
 ],
 "metadata": {
  "kernelspec": {
   "display_name": "Python 3",
   "language": "python",
   "name": "python3"
  },
  "language_info": {
   "codemirror_mode": {
    "name": "ipython",
    "version": 3
   },
   "file_extension": ".py",
   "mimetype": "text/x-python",
   "name": "python",
   "nbconvert_exporter": "python",
   "pygments_lexer": "ipython3",
   "version": "3.8.5"
  }
 },
 "nbformat": 4,
 "nbformat_minor": 5
}
