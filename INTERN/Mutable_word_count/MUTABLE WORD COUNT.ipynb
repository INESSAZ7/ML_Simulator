{
 "cells": [
  {
   "cell_type": "markdown",
   "id": "0108086f",
   "metadata": {},
   "source": [
    "### 1. Изменяемые и неизменяемые типы\n",
    "\n",
    "Если у объекта можно взять хэш, значит, он неизменяемый."
   ]
  },
  {
   "cell_type": "code",
   "execution_count": 3,
   "id": "c826312a",
   "metadata": {},
   "outputs": [
    {
     "data": {
      "text/plain": [
       "{True: 'probably'}"
      ]
     },
     "execution_count": 3,
     "metadata": {},
     "output_type": "execute_result"
    }
   ],
   "source": [
    "dic = {True: 'yes', 1: 'no', 1.0: 'probably'}\n",
    "dic"
   ]
  },
  {
   "cell_type": "markdown",
   "id": "cd76bc7d",
   "metadata": {},
   "source": [
    "Элементы в словаре добавляются по очереди.\n",
    "\n",
    "Например, если задать словарь {key1: val1, key2: val2, key3: val3, ...},\n",
    "\n",
    "То сначала добавится пара (key1 → val1), затем (key2 → val2) и т.д.\n",
    "\n",
    "\n",
    "\n",
    "При добавлении новой пары ключ-значения (или обновления существующей), мы проверяем, есть ли текущий хэш в словаре. Если есть, то обновляем значение у этого хэша. Если его не, было, то заводим новую пару хэш-значение.\n",
    "\n",
    "\n",
    "\n",
    "Вместе с хешем ключа словарь сохраняет ключ.\n",
    "\n",
    "У объектов True, 1 и 1.0 хеш совпадает и у всех троих равен 1.\n",
    "\n",
    "Получается, все три должны сохраняться в одну и ту же ячейку.\n",
    "\n",
    "Значит, как мы заметили выше, значение присвоится от последней добавленной пары."
   ]
  },
  {
   "cell_type": "markdown",
   "id": "673f2446",
   "metadata": {},
   "source": [
    "### 2. Word Count"
   ]
  },
  {
   "cell_type": "code",
   "execution_count": 1,
   "id": "99ed4c60",
   "metadata": {},
   "outputs": [],
   "source": [
    "def word_count(texts):\n",
    "    count = {}\n",
    "    for text in texts:\n",
    "        for word in text.split():\n",
    "            count[word] = count.get(word, 0) + 1\n",
    "    return count"
   ]
  },
  {
   "cell_type": "code",
   "execution_count": 2,
   "id": "fa59f4a8",
   "metadata": {},
   "outputs": [],
   "source": [
    "def word_count_new(batch, count={}):\n",
    "    for text in batch:\n",
    "        for word in text.split():\n",
    "            count[word] = count.get(word, 0) + 1\n",
    "    return count"
   ]
  },
  {
   "cell_type": "code",
   "execution_count": 4,
   "id": "0d76c54a",
   "metadata": {},
   "outputs": [],
   "source": [
    "text = ['Владелец сайта — американская некоммерческая организация «Фонд Викимедиа», имеющая 37 региональных представительств.' , 'Название энциклопедии образовано от английских слов wiki («вики»; в свою очередь заимствовано из гавайского языка, в котором оно имеет значение «быстро») и encyclopedia («энциклопедия»).']"
   ]
  },
  {
   "cell_type": "code",
   "execution_count": 3,
   "id": "5832879d",
   "metadata": {},
   "outputs": [
    {
     "ename": "AssertionError",
     "evalue": "",
     "output_type": "error",
     "traceback": [
      "\u001b[0;31m---------------------------------------------------------------------------\u001b[0m",
      "\u001b[0;31mAssertionError\u001b[0m                            Traceback (most recent call last)",
      "\u001b[0;32m<ipython-input-3-0ffcb40c1dae>\u001b[0m in \u001b[0;36m<module>\u001b[0;34m\u001b[0m\n\u001b[1;32m      3\u001b[0m \u001b[0mcount\u001b[0m \u001b[0;34m=\u001b[0m \u001b[0mword_count_new\u001b[0m\u001b[0;34m(\u001b[0m\u001b[0msome_text\u001b[0m\u001b[0;34m)\u001b[0m\u001b[0;34m\u001b[0m\u001b[0;34m\u001b[0m\u001b[0m\n\u001b[1;32m      4\u001b[0m \u001b[0mcount\u001b[0m \u001b[0;34m=\u001b[0m \u001b[0mword_count_new\u001b[0m\u001b[0;34m(\u001b[0m\u001b[0msome_text\u001b[0m\u001b[0;34m)\u001b[0m\u001b[0;34m\u001b[0m\u001b[0;34m\u001b[0m\u001b[0m\n\u001b[0;32m----> 5\u001b[0;31m \u001b[0;32massert\u001b[0m \u001b[0mcount\u001b[0m \u001b[0;34m==\u001b[0m \u001b[0mtest_dict\u001b[0m\u001b[0;34m\u001b[0m\u001b[0;34m\u001b[0m\u001b[0m\n\u001b[0m",
      "\u001b[0;31mAssertionError\u001b[0m: "
     ]
    }
   ],
   "source": [
    "    some_text = ['мама мыла раму']\n",
    "    test_dict = {'мама': 1, 'мыла': 1, 'раму': 1}\n",
    "    count = word_count_new(some_text)\n",
    "    count = word_count_new(some_text)\n",
    "    assert count == test_dict"
   ]
  },
  {
   "cell_type": "code",
   "execution_count": 4,
   "id": "9df5e93e",
   "metadata": {},
   "outputs": [
    {
     "data": {
      "text/plain": [
       "{'мама': 2, 'мыла': 2, 'раму': 2}"
      ]
     },
     "execution_count": 4,
     "metadata": {},
     "output_type": "execute_result"
    }
   ],
   "source": [
    "count"
   ]
  },
  {
   "cell_type": "code",
   "execution_count": 9,
   "id": "73369a93",
   "metadata": {},
   "outputs": [
    {
     "ename": "ModuleNotFoundError",
     "evalue": "No module named 'utils'",
     "output_type": "error",
     "traceback": [
      "\u001b[0;31m---------------------------------------------------------------------------\u001b[0m",
      "\u001b[0;31mModuleNotFoundError\u001b[0m                       Traceback (most recent call last)",
      "\u001b[0;32m<ipython-input-9-5e7d896919f0>\u001b[0m in \u001b[0;36m<module>\u001b[0;34m\u001b[0m\n\u001b[0;32m----> 1\u001b[0;31m \u001b[0;32mimport\u001b[0m \u001b[0mutils\u001b[0m\u001b[0;34m\u001b[0m\u001b[0;34m\u001b[0m\u001b[0m\n\u001b[0m\u001b[1;32m      2\u001b[0m \u001b[0;34m\u001b[0m\u001b[0m\n\u001b[1;32m      3\u001b[0m \u001b[0;34m\u001b[0m\u001b[0m\n\u001b[1;32m      4\u001b[0m \u001b[0;32mdef\u001b[0m \u001b[0mtest_word_count\u001b[0m\u001b[0;34m(\u001b[0m\u001b[0;34m)\u001b[0m\u001b[0;34m:\u001b[0m\u001b[0;34m\u001b[0m\u001b[0;34m\u001b[0m\u001b[0m\n\u001b[1;32m      5\u001b[0m     \u001b[0;34m...\u001b[0m\u001b[0;34m\u001b[0m\u001b[0;34m\u001b[0m\u001b[0m\n",
      "\u001b[0;31mModuleNotFoundError\u001b[0m: No module named 'utils'"
     ]
    }
   ],
   "source": [
    "import utils\n",
    "\n",
    "\n",
    "def test_word_count():\n",
    "    some_text = ['мама мыла раму']\n",
    "    test_dict = {'мама': 1, 'мыла': 1, 'раму': 1}\n",
    "    count = utils.word_count(some_text)\n",
    "    assert count == test_dict\n",
    "\n",
    "\n",
    "def test_word_count_tricky():\n",
    "    some_text = ['мама мыла раму']\n",
    "    test_dict = {'мама': 1, 'мыла': 1, 'раму': 1}\n",
    "    count = utils.word_count(some_text)\n",
    "    count = utils.word_count(some_text)\n",
    "    assert count == test_dict"
   ]
  },
  {
   "cell_type": "code",
   "execution_count": 24,
   "id": "f1b12ea7",
   "metadata": {},
   "outputs": [],
   "source": [
    "def word_count_new(batch, count={}):\n",
    "   \n",
    "    for text in batch:\n",
    "        for word in text.split():\n",
    "            count[word] = count.get(word, 0) + 1\n",
    "    return count"
   ]
  },
  {
   "cell_type": "code",
   "execution_count": 25,
   "id": "01f0f7ea",
   "metadata": {},
   "outputs": [
    {
     "data": {
      "text/plain": [
       "{'мама': 2, 'мыла': 1, 'раму': 1}"
      ]
     },
     "execution_count": 25,
     "metadata": {},
     "output_type": "execute_result"
    }
   ],
   "source": [
    "    some_text = ['мама мыла раму']\n",
    "    batch_2 = ['мама']\n",
    "    test_dict = {'мама': 1, 'мыла': 1, 'раму': 1}\n",
    "    count = word_count_new(some_text)\n",
    "    count2 = word_count_new(batch_2)\n",
    "    count2"
   ]
  },
  {
   "cell_type": "code",
   "execution_count": 26,
   "id": "d21d20bb",
   "metadata": {},
   "outputs": [],
   "source": [
    "def word_count_old(batch):\n",
    "    count = {}\n",
    "    for text in batch:\n",
    "        for word in text.split():\n",
    "            count[word] = count.get(word, 0) + 1\n",
    "    return count"
   ]
  },
  {
   "cell_type": "code",
   "execution_count": 27,
   "id": "0e2244b9",
   "metadata": {},
   "outputs": [
    {
     "data": {
      "text/plain": [
       "{'мама': 1}"
      ]
     },
     "execution_count": 27,
     "metadata": {},
     "output_type": "execute_result"
    }
   ],
   "source": [
    "    some_text = ['мама мыла раму']\n",
    "    batch_2 = ['мама']\n",
    "    test_dict = {'мама': 1, 'мыла': 1, 'раму': 1}\n",
    "    count = word_count_old(some_text)\n",
    "    count2 = word_count_old(batch_2)\n",
    "    count2"
   ]
  },
  {
   "cell_type": "code",
   "execution_count": null,
   "id": "09fd757a",
   "metadata": {},
   "outputs": [],
   "source": []
  }
 ],
 "metadata": {
  "kernelspec": {
   "display_name": "Python 3",
   "language": "python",
   "name": "python3"
  },
  "language_info": {
   "codemirror_mode": {
    "name": "ipython",
    "version": 3
   },
   "file_extension": ".py",
   "mimetype": "text/x-python",
   "name": "python",
   "nbconvert_exporter": "python",
   "pygments_lexer": "ipython3",
   "version": "3.8.5"
  }
 },
 "nbformat": 4,
 "nbformat_minor": 5
}
