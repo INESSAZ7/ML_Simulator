{
 "cells": [
  {
   "cell_type": "markdown",
   "id": "d69d1761",
   "metadata": {},
   "source": [
    "## Утилита для парсинга конфигов в переменные окружения и обратно\n",
    "\n",
    "Для настройки моделей используются конфиги большого уровня вложенности, параметры из которых периодически требуется устанавливать в качестве переменных окружения\n",
    "\n"
   ]
  },
  {
   "cell_type": "code",
   "execution_count": null,
   "id": "3bb1d05c",
   "metadata": {},
   "outputs": [],
   "source": [
    "# Пример конфига\n",
    "...\n",
    "\n",
    "F0_path: \"Utils/JDC/bst.t7\"\n",
    "ASR_config: \"Utils/ASR/config.yml\"\n",
    "ASR_path: \"Utils/ASR/epoch_00100.pth\"\n",
    "\n",
    "preprocess_params:\n",
    "  sr: 24000\n",
    "  spect_params:\n",
    "    n_fft: 2048\n",
    "    win_length: 1200\n",
    "    hop_length: 300\n",
    "\n",
    "model_params:\n",
    "  dim_in: 64\n",
    "  style_dim: 64\n",
    "  latent_dim: 16\n",
    "  num_domains: 20\n",
    "  max_conv_dim: 512\n",
    "  n_repeat: 4\n",
    "\n",
    "..."
   ]
  },
  {
   "cell_type": "code",
   "execution_count": null,
   "id": "e8e35801",
   "metadata": {},
   "outputs": [],
   "source": [
    "# Пример переменных окружения\n",
    "...\n",
    "\n",
    "F0_path=Utils/JDC/bst.t7\n",
    "ASR_config=Utils/ASR/config.yml\n",
    "\n",
    "...\n",
    "\n",
    "preprocess_params.sr=24000\n",
    "preprocess_params.spect_params.n_fft=2048\n",
    "\n",
    "...\n",
    "\n",
    "model_params.dim_in=64\n",
    "\n",
    "..."
   ]
  },
  {
   "cell_type": "markdown",
   "id": "11f0836d",
   "metadata": {},
   "source": [
    "**Псевдокод для парсинга конфига**\n",
    "```\n",
    "Преобразуем текст конфига в словарь (дерево)\n",
    "Рекурсивно обходим дерево:\n",
    "    Если значение это словарь:\n",
    "        Рекурсивно обходим словарь\n",
    "    Иначе:\n",
    "        Формируем строку переменной окружения вида \n",
    "        \"preprocess_params.sr.n_fft=2048\" и добавляем к результату\n",
    "Возвращает результат в виде строки\n",
    "```"
   ]
  },
  {
   "cell_type": "code",
   "execution_count": 121,
   "id": "daf441a2",
   "metadata": {},
   "outputs": [],
   "source": [
    "import yaml\n",
    "\n",
    "def dic_to_env(yml_dict, env, str_key):\n",
    "    env=''\n",
    "    for key, value in yml_dict.items(): \n",
    "        if isinstance(value, dict):\n",
    "            str_key = str_key + key + '.'\n",
    "            env = env + dic_to_env(value, env, str_key)\n",
    "            str_key = str_key.replace(key+'.', '') \n",
    "        else:\n",
    "            env= env + str_key + key + '=' + str(value) + '\\n'        \n",
    "    return env  \n",
    "            \n",
    "def yaml_to_env(config_file: str) -> str:\n",
    "    with open(config_file, 'r') as stream:\n",
    "        yaml_dict = yaml.safe_load(stream)\n",
    "    env=''\n",
    "    env = dic_to_env(yml_dict, env, '')\n",
    "    return env  \n",
    "\n",
    "def env_to_yaml(env_list: str) -> str:\n",
    "    env_str_list = env_list.split('\\n')\n",
    "    #yaml.safe_dump(d, sort_keys=False)\n",
    "    return "
   ]
  },
  {
   "cell_type": "code",
   "execution_count": 223,
   "id": "bde9f2e7",
   "metadata": {},
   "outputs": [
    {
     "data": {
      "text/plain": [
       "'log_dir=Models/VCTK20\\nsave_freq=2\\ndevice=cuda\\nepochs=150\\nbatch_size=5\\npretrained_model=\\nload_only_params=False\\nfp16_run=True\\ntrain_data=Data/train_list.txt\\nval_data=Data/val_list.txt\\nF0_path=Utils/JDC/bst.t7\\nASR_config=Utils/ASR/config.yml\\nASR_path=Utils/ASR/epoch_00100.pth\\npreprocess_params.sr=24000\\npreprocess_params.spect_params.n_fft=2048\\npreprocess_params.spect_params.win_length=1200\\npreprocess_params.spect_params.hop_length=300\\nmodel_params.dim_in=64\\nmodel_params.style_dim=64\\nmodel_params.latent_dim=16\\nmodel_params.num_domains=20\\nmodel_params.max_conv_dim=512\\nmodel_params.n_repeat=4\\nmodel_params.w_hpf=0\\nmodel_params.F0_channel=256\\nloss_params.g_loss.lambda_sty=1.0\\nloss_params.g_loss.lambda_cyc=5.0\\nloss_params.g_loss.lambda_ds=1.0\\nloss_params.g_loss.lambda_norm=1.0\\nloss_params.g_loss.lambda_asr=10.0\\nloss_params.g_loss.lambda_f0=5.0\\nloss_params.g_loss.lambda_f0_sty=0.1\\nloss_params.g_loss.lambda_adv=2.0\\nloss_params.g_loss.lambda_adv_cls=0.5\\nloss_params.g_loss.norm_bias=0.5\\nd_loss.lambda_reg=1.0\\nd_loss.lambda_adv_cls=0.1\\nd_loss.lambda_con_reg=10.0\\nadv_cls_epoch=50\\ncon_reg_epoch=30\\noptimizer_params.lr=0.0001\\n'"
      ]
     },
     "execution_count": 223,
     "metadata": {},
     "output_type": "execute_result"
    }
   ],
   "source": [
    "env_list = yaml_to_env('config.yml')\n",
    "env_list"
   ]
  },
  {
   "cell_type": "code",
   "execution_count": null,
   "id": "a9ba9291",
   "metadata": {},
   "outputs": [],
   "source": [
    "env_to_yaml(env_list)"
   ]
  },
  {
   "cell_type": "code",
   "execution_count": 126,
   "id": "234240b6",
   "metadata": {},
   "outputs": [
    {
     "data": {
      "text/plain": [
       "{'log_dir': 'Models/VCTK20',\n",
       " 'save_freq': 2,\n",
       " 'device': 'cuda',\n",
       " 'epochs': 150,\n",
       " 'batch_size': 5,\n",
       " 'pretrained_model': '',\n",
       " 'load_only_params': False,\n",
       " 'fp16_run': True,\n",
       " 'train_data': 'Data/train_list.txt',\n",
       " 'val_data': 'Data/val_list.txt',\n",
       " 'F0_path': 'Utils/JDC/bst.t7',\n",
       " 'ASR_config': 'Utils/ASR/config.yml',\n",
       " 'ASR_path': 'Utils/ASR/epoch_00100.pth',\n",
       " 'preprocess_params': {'sr': 24000,\n",
       "  'spect_params': {'n_fft': 2048, 'win_length': 1200, 'hop_length': 300}},\n",
       " 'model_params': {'dim_in': 64,\n",
       "  'style_dim': 64,\n",
       "  'latent_dim': 16,\n",
       "  'num_domains': 20,\n",
       "  'max_conv_dim': 512,\n",
       "  'n_repeat': 4,\n",
       "  'w_hpf': 0,\n",
       "  'F0_channel': 256},\n",
       " 'loss_params': {'g_loss': {'lambda_sty': 1.0,\n",
       "   'lambda_cyc': 5.0,\n",
       "   'lambda_ds': 1.0,\n",
       "   'lambda_norm': 1.0,\n",
       "   'lambda_asr': 10.0,\n",
       "   'lambda_f0': 5.0,\n",
       "   'lambda_f0_sty': 0.1,\n",
       "   'lambda_adv': 2.0,\n",
       "   'lambda_adv_cls': 0.5,\n",
       "   'norm_bias': 0.5},\n",
       "  'd_loss': {'lambda_reg': 1.0, 'lambda_adv_cls': 0.1, 'lambda_con_reg': 10.0},\n",
       "  'adv_cls_epoch': 50,\n",
       "  'con_reg_epoch': 30},\n",
       " 'optimizer_params': {'lr': 0.0001}}"
      ]
     },
     "execution_count": 126,
     "metadata": {},
     "output_type": "execute_result"
    }
   ],
   "source": [
    "with open('config.yml', 'r') as stream:\n",
    "    yml_dict = yaml.safe_load(stream)\n",
    "yml_dict"
   ]
  },
  {
   "cell_type": "code",
   "execution_count": 284,
   "id": "6cdce8d6",
   "metadata": {},
   "outputs": [],
   "source": [
    "def represents_int(s):\n",
    "    try: \n",
    "        int(s)\n",
    "    except ValueError:\n",
    "        return False\n",
    "    else:\n",
    "        return True\n",
    "    \n",
    "\n",
    "def from_str_to_type(value: str):\n",
    "    if represents_int(value):\n",
    "        return int(value)\n",
    "    if re.findall(r'[\\d]*[.][\\d]+', value):\n",
    "        return float(value)\n",
    "    if (s == \"True\"):\n",
    "        return True\n",
    "    elif (s == \"False\"):\n",
    "        return false\n",
    "    return value"
   ]
  },
  {
   "cell_type": "code",
   "execution_count": 285,
   "id": "d14c582b",
   "metadata": {},
   "outputs": [
    {
     "data": {
      "text/plain": [
       "'Models/VCTK20'"
      ]
     },
     "execution_count": 285,
     "metadata": {},
     "output_type": "execute_result"
    }
   ],
   "source": [
    "from_str_to_type('Models/VCTK20')"
   ]
  },
  {
   "cell_type": "code",
   "execution_count": 286,
   "id": "8a616fb7",
   "metadata": {},
   "outputs": [],
   "source": [
    "def _env_to_yaml(env_str: str, config: dict): \n",
    "    env_dict = {}\n",
    "    key, value = env_str.split('=')\n",
    "    value = from_str_to_type(value)\n",
    "    if ('.' in key):\n",
    "        key_0 = key.split('.')[0]\n",
    "        new_str = '.'.join(env_str.split('.')[1:])\n",
    "        if (key_0 in config):\n",
    "            config[key_0].update(_env_to_yaml(new_str, config[key_0]))\n",
    "        else:    \n",
    "            env_dict[key_0] = _env_to_yaml(new_str, config)\n",
    "\n",
    "    else:\n",
    "        env_dict[key]= value\n",
    "    return env_dict    "
   ]
  },
  {
   "cell_type": "code",
   "execution_count": 287,
   "id": "465f0914",
   "metadata": {},
   "outputs": [],
   "source": [
    "import re\n",
    "\n",
    "def env_to_yaml(env_list: str):\n",
    "    env_dict = {}\n",
    "    env_str_list = env_list.split('\\n')[:-1]\n",
    "    for env_str in env_str_list:\n",
    "        d = _env_to_yaml(env_str, env_dict)\n",
    "        env_dict.update(d)  \n",
    "    yaml.dump(env_dict)     \n",
    "    return env_dict"
   ]
  },
  {
   "cell_type": "code",
   "execution_count": 288,
   "id": "ed846018",
   "metadata": {},
   "outputs": [
    {
     "data": {
      "text/plain": [
       "{'log_dir': 'Models/VCTK20',\n",
       " 'save_freq': 2,\n",
       " 'device': 'cuda',\n",
       " 'epochs': 150,\n",
       " 'batch_size': 5,\n",
       " 'pretrained_model': '',\n",
       " 'load_only_params': True,\n",
       " 'fp16_run': True,\n",
       " 'train_data': 'Data/train_list.txt',\n",
       " 'val_data': 'Data/val_list.txt',\n",
       " 'F0_path': 'Utils/JDC/bst.t7',\n",
       " 'ASR_config': 'Utils/ASR/config.yml',\n",
       " 'ASR_path': 'Utils/ASR/epoch_00100.pth',\n",
       " 'preprocess_params': {'sr': 24000,\n",
       "  'spect_params': {'n_fft': 2048, 'win_length': 1200, 'hop_length': 300}},\n",
       " 'model_params': {'dim_in': 64,\n",
       "  'style_dim': 64,\n",
       "  'latent_dim': 16,\n",
       "  'num_domains': 20,\n",
       "  'max_conv_dim': 512,\n",
       "  'n_repeat': 4,\n",
       "  'w_hpf': 0,\n",
       "  'F0_channel': 256},\n",
       " 'loss_params': {'g_loss': {'lambda_sty': 1.0,\n",
       "   'lambda_cyc': 5.0,\n",
       "   'lambda_ds': 1.0,\n",
       "   'lambda_norm': 1.0,\n",
       "   'lambda_asr': 10.0,\n",
       "   'lambda_f0': 5.0,\n",
       "   'lambda_f0_sty': 0.1,\n",
       "   'lambda_adv': 2.0,\n",
       "   'lambda_adv_cls': 0.5,\n",
       "   'norm_bias': 0.5}},\n",
       " 'd_loss': {'lambda_reg': 1.0, 'lambda_adv_cls': 0.1, 'lambda_con_reg': 10.0},\n",
       " 'adv_cls_epoch': 50,\n",
       " 'con_reg_epoch': 30,\n",
       " 'optimizer_params': {'lr': 0.0001}}"
      ]
     },
     "execution_count": 288,
     "metadata": {},
     "output_type": "execute_result"
    }
   ],
   "source": [
    "env_to_yaml(env_list)"
   ]
  },
  {
   "cell_type": "code",
   "execution_count": null,
   "id": "8800a48e",
   "metadata": {},
   "outputs": [],
   "source": [
    "\n",
    "def env_to_yaml(env_list: str, config: dict={}):\n",
    "    env_dict = {}\n",
    "    \n",
    "    env_str_list = env_list.split('\\n')[:-1]\n",
    "    for env_str in env_str_list:\n",
    "        key, value = env_str.split('=')\n",
    "        if ('.' in key):\n",
    "            key_0 = key.split('.')[0]\n",
    "            new_str = str(env_str.split('.')[1:])\n",
    "            \n",
    "            config[key_0] = new_str\n",
    "            env_dict[key_0] = env_to_yaml(new_str, config)\n",
    "           \n",
    "        else:\n",
    "            env_dict[key]= value  \n",
    "    return env_dict "
   ]
  },
  {
   "cell_type": "code",
   "execution_count": 142,
   "id": "1ae63740",
   "metadata": {},
   "outputs": [
    {
     "data": {
      "text/plain": [
       "\"- log_dir: Models/VCTK20\\n- save_freq: '2'\\n- device: cuda\\n- epochs: '150'\\n- batch_size: '5'\\n- pretrained_model: ''\\n- load_only_params: 'False'\\n- fp16_run: 'True'\\n- train_data: Data/train_list.txt\\n- val_data: Data/val_list.txt\\n- F0_path: Utils/JDC/bst.t7\\n- ASR_config: Utils/ASR/config.yml\\n- ASR_path: Utils/ASR/epoch_00100.pth\\n- preprocess_params:\\n    sr: '24000'\\n- preprocess_params:\\n    spect_params: '2048'\\n- preprocess_params:\\n    spect_params: '1200'\\n- preprocess_params:\\n    spect_params: '300'\\n- model_params:\\n    dim_in: '64'\\n- model_params:\\n    style_dim: '64'\\n- model_params:\\n    latent_dim: '16'\\n- model_params:\\n    num_domains: '20'\\n- model_params:\\n    max_conv_dim: '512'\\n- model_params:\\n    n_repeat: '4'\\n- model_params:\\n    w_hpf: '0'\\n- model_params:\\n    F0_channel: '256'\\n- loss_params:\\n    g_loss: '1.0'\\n- loss_params:\\n    g_loss: '5.0'\\n- loss_params:\\n    g_loss: '1.0'\\n- loss_params:\\n    g_loss: '1.0'\\n- loss_params:\\n    g_loss: '10.0'\\n- loss_params:\\n    g_loss: '5.0'\\n- loss_params:\\n    g_loss: '0.1'\\n- loss_params:\\n    g_loss: '2.0'\\n- loss_params:\\n    g_loss: '0.5'\\n- loss_params:\\n    g_loss: '0.5'\\n- d_loss:\\n    lambda_reg: '1.0'\\n- d_loss:\\n    lambda_adv_cls: '0.1'\\n- d_loss:\\n    lambda_con_reg: '10.0'\\n- adv_cls_epoch: '50'\\n- con_reg_epoch: '30'\\n- optimizer_params:\\n    lr: '0.0001'\\n\""
      ]
     },
     "execution_count": 142,
     "metadata": {},
     "output_type": "execute_result"
    }
   ],
   "source": [
    "yaml.safe_dump(env_dict_list, sort_keys=False)"
   ]
  }
 ],
 "metadata": {
  "kernelspec": {
   "display_name": "Python 3",
   "language": "python",
   "name": "python3"
  },
  "language_info": {
   "codemirror_mode": {
    "name": "ipython",
    "version": 3
   },
   "file_extension": ".py",
   "mimetype": "text/x-python",
   "name": "python",
   "nbconvert_exporter": "python",
   "pygments_lexer": "ipython3",
   "version": "3.8.5"
  }
 },
 "nbformat": 4,
 "nbformat_minor": 5
}
