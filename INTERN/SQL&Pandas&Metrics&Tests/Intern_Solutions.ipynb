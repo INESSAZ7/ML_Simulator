{
 "cells": [
  {
   "cell_type": "markdown",
   "id": "cabfeb85",
   "metadata": {},
   "source": [
    "# УРОВЕНЬ INTERN"
   ]
  },
  {
   "cell_type": "markdown",
   "id": "7553a917",
   "metadata": {},
   "source": [
    "## 2. SMAPE\n",
    "\n",
    "* MAPE (Mean Absolute Percentage Error) — метрика ошибки, учитывающая средний процент отклонения предсказываемого значения от реального.\n",
    "\n",
    "* sMAPE (от symmetric MAPE) — логическое продолжение MAPE, где в знаменателе стоит уже сумма модулей предсказания и факта, а не только факта"
   ]
  },
  {
   "cell_type": "code",
   "execution_count": 16,
   "id": "c4fd445c",
   "metadata": {},
   "outputs": [],
   "source": [
    "import numpy as np\n",
    "\n",
    "def smape(y_true: np.array, y_pred: np.array) -> float:\n",
    "    denominator = np.abs(y_true) + np.abs(y_pred)\n",
    "    den = np.where(denominator > 0, 1, denominator)\n",
    "    return np.mean(2 * np.abs(y_true - y_pred) / den )"
   ]
  },
  {
   "cell_type": "code",
   "execution_count": 17,
   "id": "d6dcc3c3",
   "metadata": {},
   "outputs": [
    {
     "data": {
      "text/plain": [
       "99.0"
      ]
     },
     "execution_count": 17,
     "metadata": {},
     "output_type": "execute_result"
    }
   ],
   "source": [
    "y_true = np.array(0.5)\n",
    "y_pred = np.array(50)\n",
    "a = smape(y_true, y_pred)\n",
    "a"
   ]
  },
  {
   "cell_type": "markdown",
   "id": "7c7dc8e8",
   "metadata": {},
   "source": [
    "## 3. VALID EMAILS\n",
    "\n",
    "https://docs.python.org/3/library/re.html\n",
    "\n",
    "Можно ускорить код засчет предварительной компиляции выражения"
   ]
  },
  {
   "cell_type": "code",
   "execution_count": 6,
   "id": "167b3d71",
   "metadata": {},
   "outputs": [],
   "source": [
    "import re\n",
    "from typing import List\n",
    "import time\n",
    "import numpy as np\n",
    "\n",
    "\n",
    "\n",
    "def valid_emails(strings: List[str]) -> List[str]:\n",
    "    \"\"\"Take list of potential emails and returns only valid ones\"\"\"\n",
    "\n",
    "    valid_email_regex = r\"^[a-zA-Z0-9_.+-]+@[a-zA-Z0-9-]+\\.[a-zA-Z]{2,}$\"\n",
    "    \n",
    "    def is_valid_email(email: str) -> bool:\n",
    "        return bool(re.fullmatch(valid_email_regex, email))\n",
    "    \n",
    "    start = time.perf_counter()\n",
    "    emails = []\n",
    "    for email in strings:\n",
    "        if is_valid_email(email):\n",
    "            emails.append(email)\n",
    "            \n",
    "    finish  = time.perf_counter() \n",
    "    \n",
    "    print(f\"Вычисление заняло {start - finish:0.4f} секунд\")         \n",
    "\n",
    "    return emails\n"
   ]
  },
  {
   "cell_type": "code",
   "execution_count": 7,
   "id": "2b051a2b",
   "metadata": {},
   "outputs": [],
   "source": [
    "def valid_emails_imrove(strings: List[str]) -> List[str]:\n",
    "    \"\"\"Take list of potential emails and returns only valid ones\"\"\"\n",
    "    valid_email_regex = r\"^[a-zA-Z0-9_.+-]+@[a-zA-Z0-9-]+\\.[a-zA-Z]{2,}$\"\n",
    "    valid = re.compile(valid_email_regex)\n",
    "    \n",
    "    def is_valid_email(email: str) -> bool:\n",
    "        return bool(valid.fullmatch(email))\n",
    "    \n",
    "    start = time.perf_counter()\n",
    "    emails = []\n",
    "    for email in strings:\n",
    "        if is_valid_email(email):\n",
    "            emails.append(email)\n",
    "    finish  = time.perf_counter()               \n",
    "    print(f\"Вычисление заняло {start - finish:0.4f} секунд\")\n",
    "    return emails"
   ]
  },
  {
   "cell_type": "code",
   "execution_count": 20,
   "id": "6c72bb42",
   "metadata": {},
   "outputs": [],
   "source": [
    "wrong = list(np.full(1000, 'sbsbfs@7hbhcw3'))\n",
    "right = list(np.full(10, 'sfsd@mail.ru'))\n",
    "emails = wrong+right"
   ]
  },
  {
   "cell_type": "code",
   "execution_count": 33,
   "id": "769be0f8",
   "metadata": {},
   "outputs": [
    {
     "name": "stdout",
     "output_type": "stream",
     "text": [
      "Вычисление заняло -0.0022 секунд\n"
     ]
    },
    {
     "data": {
      "text/plain": [
       "['sfsd@mail.ru',\n",
       " 'sfsd@mail.ru',\n",
       " 'sfsd@mail.ru',\n",
       " 'sfsd@mail.ru',\n",
       " 'sfsd@mail.ru',\n",
       " 'sfsd@mail.ru',\n",
       " 'sfsd@mail.ru',\n",
       " 'sfsd@mail.ru',\n",
       " 'sfsd@mail.ru',\n",
       " 'sfsd@mail.ru']"
      ]
     },
     "execution_count": 33,
     "metadata": {},
     "output_type": "execute_result"
    }
   ],
   "source": [
    "valid_emails(emails)"
   ]
  },
  {
   "cell_type": "code",
   "execution_count": 38,
   "id": "80b227a2",
   "metadata": {},
   "outputs": [
    {
     "name": "stdout",
     "output_type": "stream",
     "text": [
      "Вычисление заняло -0.0009 секунд\n"
     ]
    },
    {
     "data": {
      "text/plain": [
       "['sfsd@mail.ru',\n",
       " 'sfsd@mail.ru',\n",
       " 'sfsd@mail.ru',\n",
       " 'sfsd@mail.ru',\n",
       " 'sfsd@mail.ru',\n",
       " 'sfsd@mail.ru',\n",
       " 'sfsd@mail.ru',\n",
       " 'sfsd@mail.ru',\n",
       " 'sfsd@mail.ru',\n",
       " 'sfsd@mail.ru']"
      ]
     },
     "execution_count": 38,
     "metadata": {},
     "output_type": "execute_result"
    }
   ],
   "source": [
    "valid_emails_imrove(emails)"
   ]
  },
  {
   "cell_type": "markdown",
   "id": "026a53ad",
   "metadata": {},
   "source": [
    "## 4. Cold start\n",
    "Возьмем данные по количеству проданных товаров из задачи \"SKU SALES\" и заполним пропуски средним значением по имеющимся данным"
   ]
  },
  {
   "cell_type": "code",
   "execution_count": 5,
   "id": "0d2c30da",
   "metadata": {},
   "outputs": [
    {
     "data": {
      "text/html": [
       "<div>\n",
       "<style scoped>\n",
       "    .dataframe tbody tr th:only-of-type {\n",
       "        vertical-align: middle;\n",
       "    }\n",
       "\n",
       "    .dataframe tbody tr th {\n",
       "        vertical-align: top;\n",
       "    }\n",
       "\n",
       "    .dataframe thead th {\n",
       "        text-align: right;\n",
       "    }\n",
       "</style>\n",
       "<table border=\"1\" class=\"dataframe\">\n",
       "  <thead>\n",
       "    <tr style=\"text-align: right;\">\n",
       "      <th></th>\n",
       "      <th>days</th>\n",
       "      <th>sku</th>\n",
       "    </tr>\n",
       "  </thead>\n",
       "  <tbody>\n",
       "    <tr>\n",
       "      <th>0</th>\n",
       "      <td>2020-06-08</td>\n",
       "      <td>5</td>\n",
       "    </tr>\n",
       "    <tr>\n",
       "      <th>1</th>\n",
       "      <td>2020-06-10</td>\n",
       "      <td>5</td>\n",
       "    </tr>\n",
       "    <tr>\n",
       "      <th>2</th>\n",
       "      <td>2021-01-01</td>\n",
       "      <td>378</td>\n",
       "    </tr>\n",
       "    <tr>\n",
       "      <th>3</th>\n",
       "      <td>2021-01-02</td>\n",
       "      <td>1020</td>\n",
       "    </tr>\n",
       "    <tr>\n",
       "      <th>4</th>\n",
       "      <td>2021-01-03</td>\n",
       "      <td>2581</td>\n",
       "    </tr>\n",
       "  </tbody>\n",
       "</table>\n",
       "</div>"
      ],
      "text/plain": [
       "         days   sku\n",
       "0  2020-06-08     5\n",
       "1  2020-06-10     5\n",
       "2  2021-01-01   378\n",
       "3  2021-01-02  1020\n",
       "4  2021-01-03  2581"
      ]
     },
     "execution_count": 5,
     "metadata": {},
     "output_type": "execute_result"
    }
   ],
   "source": [
    "import pandas as pd\n",
    "import numpy as np\n",
    "\n",
    "df = pd.read_excel('sku_sales.xlsx')\n",
    "df.head()"
   ]
  },
  {
   "cell_type": "code",
   "execution_count": 6,
   "id": "4c6c165e",
   "metadata": {},
   "outputs": [],
   "source": [
    "# Заменили все значения продаж в январе 2021 на na для проверки работоспособности функции\n",
    "df.loc[df['days'].str.contains('2021-01'), 'sku'] = None\n",
    "\n",
    "# Создаем столбец для дальнейшей группировки и подсчета среднего\n",
    "df['day'] = df.days.apply(lambda x: x.split('-')[2])"
   ]
  },
  {
   "cell_type": "code",
   "execution_count": 7,
   "id": "8f59cfc9",
   "metadata": {},
   "outputs": [],
   "source": [
    "import pandas as pd\n",
    "import numpy as np\n",
    "\n",
    "\n",
    "def fillna_with_mean(\n",
    "    df: pd.DataFrame, target: str, group: str\n",
    ") -> pd.DataFrame:\n",
    "    df_new = df.copy() #важно не забывать делать копию, иначе изменим изначальный датафрейм\n",
    "    group = df_new.groupby(group)[target].transform('mean')\n",
    "    df_new.loc[df[target].isnull(), target] = group.apply(np.floor)\n",
    "    return df_new\n"
   ]
  },
  {
   "cell_type": "code",
   "execution_count": 8,
   "id": "8e6bc783",
   "metadata": {},
   "outputs": [
    {
     "data": {
      "text/html": [
       "<div>\n",
       "<style scoped>\n",
       "    .dataframe tbody tr th:only-of-type {\n",
       "        vertical-align: middle;\n",
       "    }\n",
       "\n",
       "    .dataframe tbody tr th {\n",
       "        vertical-align: top;\n",
       "    }\n",
       "\n",
       "    .dataframe thead th {\n",
       "        text-align: right;\n",
       "    }\n",
       "</style>\n",
       "<table border=\"1\" class=\"dataframe\">\n",
       "  <thead>\n",
       "    <tr style=\"text-align: right;\">\n",
       "      <th></th>\n",
       "      <th>days</th>\n",
       "      <th>sku</th>\n",
       "      <th>day</th>\n",
       "    </tr>\n",
       "  </thead>\n",
       "  <tbody>\n",
       "    <tr>\n",
       "      <th>0</th>\n",
       "      <td>2020-06-08</td>\n",
       "      <td>5.0</td>\n",
       "      <td>08</td>\n",
       "    </tr>\n",
       "    <tr>\n",
       "      <th>1</th>\n",
       "      <td>2020-06-10</td>\n",
       "      <td>5.0</td>\n",
       "      <td>10</td>\n",
       "    </tr>\n",
       "    <tr>\n",
       "      <th>2</th>\n",
       "      <td>2021-01-01</td>\n",
       "      <td>9343.0</td>\n",
       "      <td>01</td>\n",
       "    </tr>\n",
       "    <tr>\n",
       "      <th>3</th>\n",
       "      <td>2021-01-02</td>\n",
       "      <td>10509.0</td>\n",
       "      <td>02</td>\n",
       "    </tr>\n",
       "    <tr>\n",
       "      <th>4</th>\n",
       "      <td>2021-01-03</td>\n",
       "      <td>10308.0</td>\n",
       "      <td>03</td>\n",
       "    </tr>\n",
       "    <tr>\n",
       "      <th>...</th>\n",
       "      <td>...</td>\n",
       "      <td>...</td>\n",
       "      <td>...</td>\n",
       "    </tr>\n",
       "    <tr>\n",
       "      <th>361</th>\n",
       "      <td>2021-12-26</td>\n",
       "      <td>1081.0</td>\n",
       "      <td>26</td>\n",
       "    </tr>\n",
       "    <tr>\n",
       "      <th>362</th>\n",
       "      <td>2021-12-27</td>\n",
       "      <td>12879.0</td>\n",
       "      <td>27</td>\n",
       "    </tr>\n",
       "    <tr>\n",
       "      <th>363</th>\n",
       "      <td>2021-12-28</td>\n",
       "      <td>1588.0</td>\n",
       "      <td>28</td>\n",
       "    </tr>\n",
       "    <tr>\n",
       "      <th>364</th>\n",
       "      <td>2021-12-29</td>\n",
       "      <td>14686.0</td>\n",
       "      <td>29</td>\n",
       "    </tr>\n",
       "    <tr>\n",
       "      <th>365</th>\n",
       "      <td>2021-12-30</td>\n",
       "      <td>14766.0</td>\n",
       "      <td>30</td>\n",
       "    </tr>\n",
       "  </tbody>\n",
       "</table>\n",
       "<p>366 rows × 3 columns</p>\n",
       "</div>"
      ],
      "text/plain": [
       "           days      sku day\n",
       "0    2020-06-08      5.0  08\n",
       "1    2020-06-10      5.0  10\n",
       "2    2021-01-01   9343.0  01\n",
       "3    2021-01-02  10509.0  02\n",
       "4    2021-01-03  10308.0  03\n",
       "..          ...      ...  ..\n",
       "361  2021-12-26   1081.0  26\n",
       "362  2021-12-27  12879.0  27\n",
       "363  2021-12-28   1588.0  28\n",
       "364  2021-12-29  14686.0  29\n",
       "365  2021-12-30  14766.0  30\n",
       "\n",
       "[366 rows x 3 columns]"
      ]
     },
     "execution_count": 8,
     "metadata": {},
     "output_type": "execute_result"
    }
   ],
   "source": [
    "df_new = fillna_with_mean(df, 'sku', 'day')\n",
    "df_new"
   ]
  },
  {
   "cell_type": "code",
   "execution_count": 9,
   "id": "70652cae",
   "metadata": {},
   "outputs": [
    {
     "data": {
      "text/html": [
       "<div>\n",
       "<style scoped>\n",
       "    .dataframe tbody tr th:only-of-type {\n",
       "        vertical-align: middle;\n",
       "    }\n",
       "\n",
       "    .dataframe tbody tr th {\n",
       "        vertical-align: top;\n",
       "    }\n",
       "\n",
       "    .dataframe thead th {\n",
       "        text-align: right;\n",
       "    }\n",
       "</style>\n",
       "<table border=\"1\" class=\"dataframe\">\n",
       "  <thead>\n",
       "    <tr style=\"text-align: right;\">\n",
       "      <th></th>\n",
       "      <th>days</th>\n",
       "      <th>sku</th>\n",
       "      <th>day</th>\n",
       "    </tr>\n",
       "  </thead>\n",
       "  <tbody>\n",
       "    <tr>\n",
       "      <th>0</th>\n",
       "      <td>2020-06-08</td>\n",
       "      <td>5.0</td>\n",
       "      <td>08</td>\n",
       "    </tr>\n",
       "    <tr>\n",
       "      <th>1</th>\n",
       "      <td>2020-06-10</td>\n",
       "      <td>5.0</td>\n",
       "      <td>10</td>\n",
       "    </tr>\n",
       "    <tr>\n",
       "      <th>2</th>\n",
       "      <td>2021-01-01</td>\n",
       "      <td>NaN</td>\n",
       "      <td>01</td>\n",
       "    </tr>\n",
       "    <tr>\n",
       "      <th>3</th>\n",
       "      <td>2021-01-02</td>\n",
       "      <td>NaN</td>\n",
       "      <td>02</td>\n",
       "    </tr>\n",
       "    <tr>\n",
       "      <th>4</th>\n",
       "      <td>2021-01-03</td>\n",
       "      <td>NaN</td>\n",
       "      <td>03</td>\n",
       "    </tr>\n",
       "    <tr>\n",
       "      <th>...</th>\n",
       "      <td>...</td>\n",
       "      <td>...</td>\n",
       "      <td>...</td>\n",
       "    </tr>\n",
       "    <tr>\n",
       "      <th>361</th>\n",
       "      <td>2021-12-26</td>\n",
       "      <td>1081.0</td>\n",
       "      <td>26</td>\n",
       "    </tr>\n",
       "    <tr>\n",
       "      <th>362</th>\n",
       "      <td>2021-12-27</td>\n",
       "      <td>12879.0</td>\n",
       "      <td>27</td>\n",
       "    </tr>\n",
       "    <tr>\n",
       "      <th>363</th>\n",
       "      <td>2021-12-28</td>\n",
       "      <td>1588.0</td>\n",
       "      <td>28</td>\n",
       "    </tr>\n",
       "    <tr>\n",
       "      <th>364</th>\n",
       "      <td>2021-12-29</td>\n",
       "      <td>14686.0</td>\n",
       "      <td>29</td>\n",
       "    </tr>\n",
       "    <tr>\n",
       "      <th>365</th>\n",
       "      <td>2021-12-30</td>\n",
       "      <td>14766.0</td>\n",
       "      <td>30</td>\n",
       "    </tr>\n",
       "  </tbody>\n",
       "</table>\n",
       "<p>366 rows × 3 columns</p>\n",
       "</div>"
      ],
      "text/plain": [
       "           days      sku day\n",
       "0    2020-06-08      5.0  08\n",
       "1    2020-06-10      5.0  10\n",
       "2    2021-01-01      NaN  01\n",
       "3    2021-01-02      NaN  02\n",
       "4    2021-01-03      NaN  03\n",
       "..          ...      ...  ..\n",
       "361  2021-12-26   1081.0  26\n",
       "362  2021-12-27  12879.0  27\n",
       "363  2021-12-28   1588.0  28\n",
       "364  2021-12-29  14686.0  29\n",
       "365  2021-12-30  14766.0  30\n",
       "\n",
       "[366 rows x 3 columns]"
      ]
     },
     "execution_count": 9,
     "metadata": {},
     "output_type": "execute_result"
    }
   ],
   "source": [
    "df"
   ]
  },
  {
   "cell_type": "markdown",
   "id": "c42efb35",
   "metadata": {},
   "source": [
    "## 5. Stocks\n",
    "\n",
    "* SKU (Stock Keeping Unit), уникальный ID товара (тип int)\n",
    "* GMV (Gross Merchandise Volume), аналог розничного товарооборота (тип float)\n",
    "* stock – число единиц товара на складе (тип int)\n",
    "* price – цена на товар (тип float)\n",
    "\n",
    "**Notes:**\n",
    "'/' - деление, '//' -целочисленное деление; '/' и округление работает быстрее\n",
    "\n",
    "Ex.: 5 / 2 will return 2.5 and 5 // 2 will return 2"
   ]
  },
  {
   "cell_type": "code",
   "execution_count": 2,
   "id": "fd8ff9fb",
   "metadata": {},
   "outputs": [
    {
     "data": {
      "text/html": [
       "<div>\n",
       "<style scoped>\n",
       "    .dataframe tbody tr th:only-of-type {\n",
       "        vertical-align: middle;\n",
       "    }\n",
       "\n",
       "    .dataframe tbody tr th {\n",
       "        vertical-align: top;\n",
       "    }\n",
       "\n",
       "    .dataframe thead th {\n",
       "        text-align: right;\n",
       "    }\n",
       "</style>\n",
       "<table border=\"1\" class=\"dataframe\">\n",
       "  <thead>\n",
       "    <tr style=\"text-align: right;\">\n",
       "      <th></th>\n",
       "      <th>sku</th>\n",
       "      <th>gmv</th>\n",
       "      <th>price</th>\n",
       "      <th>stock</th>\n",
       "    </tr>\n",
       "  </thead>\n",
       "  <tbody>\n",
       "    <tr>\n",
       "      <th>0</th>\n",
       "      <td>100</td>\n",
       "      <td>400</td>\n",
       "      <td>100</td>\n",
       "      <td>3</td>\n",
       "    </tr>\n",
       "    <tr>\n",
       "      <th>1</th>\n",
       "      <td>200</td>\n",
       "      <td>350</td>\n",
       "      <td>70</td>\n",
       "      <td>10</td>\n",
       "    </tr>\n",
       "    <tr>\n",
       "      <th>2</th>\n",
       "      <td>300</td>\n",
       "      <td>500</td>\n",
       "      <td>120</td>\n",
       "      <td>5</td>\n",
       "    </tr>\n",
       "  </tbody>\n",
       "</table>\n",
       "</div>"
      ],
      "text/plain": [
       "   sku  gmv  price  stock\n",
       "0  100  400    100      3\n",
       "1  200  350     70     10\n",
       "2  300  500    120      5"
      ]
     },
     "execution_count": 2,
     "metadata": {},
     "output_type": "execute_result"
    }
   ],
   "source": [
    "import pandas as pd\n",
    "df_p = pd.read_excel('stocks.xlsx')\n",
    "df_p"
   ]
  },
  {
   "cell_type": "code",
   "execution_count": 3,
   "id": "74482d68",
   "metadata": {},
   "outputs": [],
   "source": [
    "def limit_gmv(df: pd.DataFrame):\n",
    "    df.loc[df.price*df.stock < df.gmv, 'gmv'] = df.price*df.stock\n",
    "    df.loc[df.gmv%df.price != 0, 'gmv'] = round(df.gmv/df.price)*df['price']     \n",
    "    return df"
   ]
  },
  {
   "cell_type": "code",
   "execution_count": 4,
   "id": "dde72421",
   "metadata": {},
   "outputs": [
    {
     "data": {
      "text/html": [
       "<div>\n",
       "<style scoped>\n",
       "    .dataframe tbody tr th:only-of-type {\n",
       "        vertical-align: middle;\n",
       "    }\n",
       "\n",
       "    .dataframe tbody tr th {\n",
       "        vertical-align: top;\n",
       "    }\n",
       "\n",
       "    .dataframe thead th {\n",
       "        text-align: right;\n",
       "    }\n",
       "</style>\n",
       "<table border=\"1\" class=\"dataframe\">\n",
       "  <thead>\n",
       "    <tr style=\"text-align: right;\">\n",
       "      <th></th>\n",
       "      <th>sku</th>\n",
       "      <th>gmv</th>\n",
       "      <th>price</th>\n",
       "      <th>stock</th>\n",
       "    </tr>\n",
       "  </thead>\n",
       "  <tbody>\n",
       "    <tr>\n",
       "      <th>0</th>\n",
       "      <td>100</td>\n",
       "      <td>300</td>\n",
       "      <td>100</td>\n",
       "      <td>3</td>\n",
       "    </tr>\n",
       "    <tr>\n",
       "      <th>1</th>\n",
       "      <td>200</td>\n",
       "      <td>350</td>\n",
       "      <td>70</td>\n",
       "      <td>10</td>\n",
       "    </tr>\n",
       "    <tr>\n",
       "      <th>2</th>\n",
       "      <td>300</td>\n",
       "      <td>480</td>\n",
       "      <td>120</td>\n",
       "      <td>5</td>\n",
       "    </tr>\n",
       "  </tbody>\n",
       "</table>\n",
       "</div>"
      ],
      "text/plain": [
       "   sku  gmv  price  stock\n",
       "0  100  300    100      3\n",
       "1  200  350     70     10\n",
       "2  300  480    120      5"
      ]
     },
     "execution_count": 4,
     "metadata": {},
     "output_type": "execute_result"
    }
   ],
   "source": [
    "limit_gmv(df_p)"
   ]
  },
  {
   "cell_type": "code",
   "execution_count": 11,
   "id": "81d0e652",
   "metadata": {},
   "outputs": [],
   "source": [
    "def limit_gmv(df: pd.DataFrame):\n",
    "    \"\"\"Принимает на вход датафрейм с предсказанием оборота,\n",
    "        возвращает обработанные датафрейм\"\"\"\n",
    "    df = df.copy()\n",
    "    df['gmv'] = ((df.gmv/df.price).astype(int) * df['price']) \\\n",
    "                                .clip(upper = df.price*df.stock) \n",
    "    return df"
   ]
  },
  {
   "cell_type": "code",
   "execution_count": 12,
   "id": "31ea691d",
   "metadata": {},
   "outputs": [
    {
     "data": {
      "text/html": [
       "<div>\n",
       "<style scoped>\n",
       "    .dataframe tbody tr th:only-of-type {\n",
       "        vertical-align: middle;\n",
       "    }\n",
       "\n",
       "    .dataframe tbody tr th {\n",
       "        vertical-align: top;\n",
       "    }\n",
       "\n",
       "    .dataframe thead th {\n",
       "        text-align: right;\n",
       "    }\n",
       "</style>\n",
       "<table border=\"1\" class=\"dataframe\">\n",
       "  <thead>\n",
       "    <tr style=\"text-align: right;\">\n",
       "      <th></th>\n",
       "      <th>sku</th>\n",
       "      <th>gmv</th>\n",
       "      <th>price</th>\n",
       "      <th>stock</th>\n",
       "    </tr>\n",
       "  </thead>\n",
       "  <tbody>\n",
       "    <tr>\n",
       "      <th>0</th>\n",
       "      <td>100</td>\n",
       "      <td>300</td>\n",
       "      <td>100</td>\n",
       "      <td>3</td>\n",
       "    </tr>\n",
       "    <tr>\n",
       "      <th>1</th>\n",
       "      <td>200</td>\n",
       "      <td>350</td>\n",
       "      <td>70</td>\n",
       "      <td>10</td>\n",
       "    </tr>\n",
       "    <tr>\n",
       "      <th>2</th>\n",
       "      <td>300</td>\n",
       "      <td>480</td>\n",
       "      <td>120</td>\n",
       "      <td>5</td>\n",
       "    </tr>\n",
       "  </tbody>\n",
       "</table>\n",
       "</div>"
      ],
      "text/plain": [
       "   sku  gmv  price  stock\n",
       "0  100  300    100      3\n",
       "1  200  350     70     10\n",
       "2  300  480    120      5"
      ]
     },
     "execution_count": 12,
     "metadata": {},
     "output_type": "execute_result"
    }
   ],
   "source": [
    "limit_gmv(df_p)"
   ]
  },
  {
   "cell_type": "markdown",
   "id": "d470a09d",
   "metadata": {},
   "source": [
    "## 6. AVERAGE CHECK\n",
    "\n",
    "https://clickhouse.com/docs/ru/sql-reference/aggregate-functions/reference/quantiles#quantiles \n",
    "\n",
    " ```SQL\n",
    " select toStartOfMonth(toDate(buy_date)) as month,\n",
    "        avg(check_amount) as avg_check,\n",
    "        quantileExactExclusive(0.5)(check_amount) as median_check\n",
    "from default.view_checks\n",
    "group by month\n",
    "\n",
    " ```"
   ]
  },
  {
   "cell_type": "markdown",
   "id": "06ea27d6",
   "metadata": {},
   "source": [
    "## 7. DOCSTRING\n",
    "http://daouzli.com/blog/docstring.html\n",
    "\n",
    "**Pyment**\n",
    "* https://github.com/dadadel/pyment\n",
    "* http://daouzli.com/blog/pyment.html"
   ]
  },
  {
   "cell_type": "code",
   "execution_count": 20,
   "id": "c5cd13c2",
   "metadata": {},
   "outputs": [],
   "source": [
    "#!pip install git+https://github.com/dadadel/pyment.git"
   ]
  },
  {
   "cell_type": "code",
   "execution_count": 27,
   "id": "bab8c5e2",
   "metadata": {},
   "outputs": [],
   "source": [
    "#исходный файл (исправленный docstring.py)\n",
    "def fix_params(params, space):\n",
    "    params = dict(params)\n",
    "    ...\n",
    "\n",
    "    return params\n",
    "\n",
    "\n",
    "def ranking(ser):\n",
    "    \"\"\"Make rank transformation.\n",
    "    @param ser: Values for ranking. None interpreted as worst.\n",
    "    @type ser: Series of float\n",
    "\n",
    "    @return: Ranks (1: highest, N: lowest)\n",
    "    @rtype: Series of int\n",
    "    \"\"\"\n",
    "    ser = ser.fillna(ser.min())\n",
    "    ...\n",
    "    return rnk\n",
    "\n",
    "\n",
    "def qround(x, a, b, q):\n",
    "    '''Convert x to one of [a, a+q, a+2q, .., b]\n",
    "    Parameters\n",
    "    ----\n",
    "    x : int or float\n",
    "        Input value. x must be in [a, b].\n",
    "        If x < a, x set to a.\n",
    "        If x > b, x set to b.\n",
    "    a : int or float\n",
    "        Boundaries. b must be greater than a. Otherwize b set to a.\n",
    "    b : int or float\n",
    "        Boundaries. b must be greater than a. Otherwize b set to a.\n",
    "    q : int or float\n",
    "        Step value. If q and a are both integer, x set to integer too.\n",
    "    Returns\n",
    "    -------\n",
    "    int or float\n",
    "        Rounded value\n",
    "    '''\n",
    "    # Check if a <= x <= b\n",
    "    b = max(a, b)\n",
    "    x = min(max(x, a), b)\n",
    "    ...\n",
    "    return x"
   ]
  },
  {
   "cell_type": "code",
   "execution_count": 28,
   "id": "d505c033",
   "metadata": {},
   "outputs": [],
   "source": [
    "!pyment -o numpydoc -f false docstring.py"
   ]
  },
  {
   "cell_type": "code",
   "execution_count": 29,
   "id": "5e17fb99",
   "metadata": {},
   "outputs": [
    {
     "name": "stdout",
     "output_type": "stream",
     "text": [
      "patching file docstring.py\r\n"
     ]
    }
   ],
   "source": [
    "!patch -p1 < docstring.py.patch"
   ]
  },
  {
   "cell_type": "markdown",
   "id": "a790ce43",
   "metadata": {},
   "source": [
    "## 8. ASYMMETRIC METRICS\n",
    "* https://alexanderdyakonov.files.wordpress.com/2018/10/book_08_metrics_12_blog1.pdf\n",
    "* https://alexanderdyakonov.wordpress.com/2018/10/23/функции-ошибок-в-задачах-регрессии/"
   ]
  },
  {
   "cell_type": "code",
   "execution_count": 30,
   "id": "58ddd94e",
   "metadata": {},
   "outputs": [],
   "source": [
    "#Нужно определить сколько товара привезти на склад. Лучше привезти больше.\n",
    "#Используем функцию, которая штрафует за недопрогноз\n",
    "\n",
    "import numpy as np\n",
    "\n",
    "\n",
    "def turnover_error(y_true: np.array, y_pred: np.array) -> float:\n",
    "    res = np.sum(((y_pred - y_true)/y_pred)**2)\n",
    "    return res"
   ]
  },
  {
   "cell_type": "code",
   "execution_count": 33,
   "id": "da4ceb81",
   "metadata": {},
   "outputs": [
    {
     "data": {
      "text/plain": [
       "0.1111111111111111"
      ]
     },
     "execution_count": 33,
     "metadata": {},
     "output_type": "execute_result"
    }
   ],
   "source": [
    "y_true = np.array([100])\n",
    "y_pred = np.array([150])\n",
    "#y_pred = np.array([50])\n",
    "turnover_error(y_true, y_pred)"
   ]
  },
  {
   "cell_type": "code",
   "execution_count": 62,
   "id": "28a13501",
   "metadata": {},
   "outputs": [],
   "source": [
    "#Прогнозируем LTV (LifeTime Value, сколько денег нам принесёт клиент за всё время, что будет пользоваться нашим сервисом)\n",
    "#Лучше недооценить. Используем функцию, которая штрафует за перепрогноз\n",
    "#Реализуем квантильную функцию потерь\n",
    "import numpy as np\n",
    "\n",
    "def ltv_error(y_true: np.array, y_pred: np.array) -> float:\n",
    "    diff = y_true-y_pred\n",
    "    diff = np.multiply(np.abs(diff), np.where(diff >= 0, 0.25, 0.75))\n",
    "    error = np.sum(diff)\n",
    "    return error"
   ]
  },
  {
   "cell_type": "code",
   "execution_count": 63,
   "id": "9740da2c",
   "metadata": {},
   "outputs": [
    {
     "name": "stdout",
     "output_type": "stream",
     "text": [
      "[-50]\n",
      "[37.5]\n"
     ]
    },
    {
     "data": {
      "text/plain": [
       "37.5"
      ]
     },
     "execution_count": 63,
     "metadata": {},
     "output_type": "execute_result"
    }
   ],
   "source": [
    "y_true = np.array([100])\n",
    "y_pred = np.array([150])\n",
    "#y_pred = np.array([50])\n",
    "ltv_error(y_true, y_pred)"
   ]
  },
  {
   "cell_type": "markdown",
   "id": "d216661c",
   "metadata": {},
   "source": [
    "## 9. DAU\n",
    "\n",
    "```SQL\n",
    "select toDate(timestamp) as day,\n",
    "        uniqExact(user_id)\n",
    "from default.churn_submits\n",
    "group by day\n",
    "```"
   ]
  },
  {
   "cell_type": "markdown",
   "id": "1e40f3a5",
   "metadata": {},
   "source": [
    "## 10. TOP 10\n",
    "\n",
    "TOP-10 брендов по количеству SKU \n",
    "\n",
    "```SQL\n",
    "select brand,\n",
    "        count(sku_type) as count_sku\n",
    "from sku_dict_another_one\n",
    "where brand is not null\n",
    "group by brand\n",
    "order by count_sku DESC\n",
    "limit 10\n",
    "```\n",
    "\n",
    "TOP-10 SKU по количеству вендоров их продающих\n",
    "\n",
    "```SQL\n",
    "select sku_type,\n",
    "        count(distinct vendor) as count_vendor\n",
    "from sku_dict_another_one\n",
    "group by sku_type\n",
    "order by count_vendor DESC\n",
    "limit 10\n",
    "```\n",
    "\n",
    "TOP-10 вендоров по количеству брендов, которые они продают\n",
    "```SQL\n",
    "select vendor,\n",
    "       count(distinct brand) as brand\n",
    "from sku_dict_another_one\n",
    "where brand is not null\n",
    "group by vendor\n",
    "order by brand DESC\n",
    "limit 10\n",
    "```\n",
    "\n",
    "TOP-10 вендоров по количеству SKU, которые они продают\n",
    "```SQL\n",
    "select vendor,\n",
    "       count(sku_type) as sku\n",
    "from sku_dict_another_one\n",
    "where vendor is not null\n",
    "group by vendor\n",
    "order by sku DESC\n",
    "limit 10\n",
    "```"
   ]
  },
  {
   "cell_type": "markdown",
   "id": "c5669858",
   "metadata": {},
   "source": [
    "## 11. HELLO PYTEST"
   ]
  },
  {
   "cell_type": "code",
   "execution_count": 73,
   "id": "c249ff59",
   "metadata": {},
   "outputs": [],
   "source": [
    "#!pip install -U pytest"
   ]
  },
  {
   "cell_type": "code",
   "execution_count": 65,
   "id": "1bfad6e1",
   "metadata": {},
   "outputs": [],
   "source": [
    "#Пример теста\n",
    "#Запускать тест командой pytest test_label.py\n",
    "from sklearn.preprocessing import MultiLabelBinarizer\n",
    "\n",
    "\n",
    "def test_multilabel_binarizer_empty_sample():\n",
    "    mlb = MultiLabelBinarizer()\n",
    "    y = [[1, 2], [1], []]\n",
    "    Y = np.array([[1, 1], [1, 0], [0, 0]])\n",
    "    assert_array_equal(mlb.fit_transform(y), Y)"
   ]
  },
  {
   "cell_type": "code",
   "execution_count": 66,
   "id": "96966540",
   "metadata": {},
   "outputs": [],
   "source": [
    "#Напишем тесты для следующих функций\n",
    "from typing import List\n",
    "\n",
    "\n",
    "def profit(revenue: List[float], costs: List[float]) -> float:\n",
    "    return sum(revenue) - sum(costs)\n",
    "\n",
    "\n",
    "def margin(revenue: List[float], costs: List[float]) -> float:\n",
    "    return (sum(revenue) - sum(costs)) / sum(revenue)\n",
    "\n",
    "\n",
    "def markup(revenue: List[float], costs: List[float]) -> float:\n",
    "    return (sum(revenue) - sum(costs)) / sum(costs)"
   ]
  },
  {
   "cell_type": "code",
   "execution_count": 70,
   "id": "b7af65f3",
   "metadata": {},
   "outputs": [],
   "source": [
    "#Тесты\n",
    "def test_profit() -> None:\n",
    "    assert profit([1, 2, 3], [1, 1, 1]) == 3\n",
    "    assert profit([0, 0], [0, 0]) == 0\n",
    "    assert profit([2.2, 0], [1, 1]) == 0.2\n",
    "    assert profit([2, 0], [1, 3]) == -2\n",
    "    assert profit([], []) == 0\n",
    "\n",
    "\n",
    "def test_margin() -> None:\n",
    "    assert margin([1, 2, 3], [1, 1, 1]) == 0.5\n",
    "    assert margin([2, 0], [1, 1]) == 0\n",
    "    assert margin([2, 0], [1, 3]) == -1\n",
    "\n",
    "\n",
    "def test_markup() -> None:\n",
    "    assert markup([1, 2, 3], [1, 1, 1]) == 1\n",
    "    assert markup([2, 0], [1, 1]) == 0\n",
    "    assert markup([2, 0], [1, 3]) == -0.5\n"
   ]
  },
  {
   "cell_type": "code",
   "execution_count": 76,
   "id": "b02fd4b4",
   "metadata": {},
   "outputs": [
    {
     "name": "stdout",
     "output_type": "stream",
     "text": [
      "\u001b[1m============================= test session starts ==============================\u001b[0m\n",
      "platform darwin -- Python 3.8.5, pytest-7.4.3, pluggy-1.3.0\n",
      "rootdir: /Users/inessa/Desktop/git/ML_Simulator/INTERN/SQL&Pandas\n",
      "plugins: anyio-3.7.1\n",
      "collected 3 items                                                              \u001b[0m\n",
      "\n",
      "hello_pytest.py \u001b[32m.\u001b[0m\u001b[32m.\u001b[0m\u001b[32m.\u001b[0m\u001b[32m                                                      [100%]\u001b[0m\n",
      "\n",
      "\u001b[32m============================== \u001b[32m\u001b[1m3 passed\u001b[0m\u001b[32m in 0.23s\u001b[0m\u001b[32m ===============================\u001b[0m\n"
     ]
    }
   ],
   "source": [
    "!pytest hello_pytest.py"
   ]
  },
  {
   "cell_type": "markdown",
   "id": "dcd71856",
   "metadata": {},
   "source": [
    "## 14. NEGATIVE TESTS"
   ]
  },
  {
   "cell_type": "code",
   "execution_count": 118,
   "id": "46bf853f",
   "metadata": {},
   "outputs": [],
   "source": [
    "def ctr(clicks: int, views: int) -> float:\n",
    "    \"\"\"Click-through Rate.\"\"\"\n",
    "\n",
    "    # Check that the values are integers\n",
    "    if not isinstance(clicks, int):\n",
    "        raise TypeError(\"clicks must be an integer\")\n",
    "\n",
    "    if not isinstance(views, int):\n",
    "        raise TypeError(\"views must be an integer\")\n",
    "\n",
    "    # Check that the values are positive\n",
    "    if clicks < 0:\n",
    "        raise ValueError(\"clicks must be positive\")\n",
    "\n",
    "    if views < 0:\n",
    "        raise ValueError(\"views must be positive\")\n",
    "\n",
    "    # Check if clicks are greater than views\n",
    "    if views < clicks:\n",
    "        raise ValueError(\"clicks must be less than or equal to views\")\n",
    "\n",
    "    # Calculate the clickthrough rate\n",
    "    if views:\n",
    "        return clicks / views\n",
    "    else:\n",
    "        raise ZeroDivisionError(\"views must be greater than zero\")\n"
   ]
  },
  {
   "cell_type": "code",
   "execution_count": 119,
   "id": "f4c55248",
   "metadata": {},
   "outputs": [],
   "source": [
    "import metrics\n",
    "\n",
    "\n",
    "def test_non_int_clicks():\n",
    "    try:\n",
    "        metrics.ctr(1.5, 2)\n",
    "    except TypeError:\n",
    "        pass\n",
    "    else:\n",
    "        raise AssertionError(\"Non int clicks not handled\")\n",
    "\n",
    "\n",
    "def test_non_int_views():\n",
    "    try:\n",
    "        metrics.ctr(1, 2.5)\n",
    "    except TypeError:\n",
    "        pass\n",
    "    else:\n",
    "        raise AssertionError(\"Non int views not handled\")\n",
    "\n",
    "\n",
    "def test_non_positive_clicks():\n",
    "    try:\n",
    "        metrics.ctr(-1, 2)\n",
    "    except ValueError:\n",
    "        pass\n",
    "    else:\n",
    "        raise AssertionError(\"Non positive clicks not handled\")\n",
    "\n",
    "\n",
    "def test_non_positive_views():\n",
    "    try:\n",
    "        metrics.ctr(1, -2)\n",
    "    except ValueError:\n",
    "        pass\n",
    "    else:\n",
    "        raise AssertionError(\"Non positive views not handled\")\n",
    "\n",
    "\n",
    "def test_clicks_greater_than_views():\n",
    "    try:\n",
    "        metrics.ctr(2, 1)\n",
    "    except ValueError:\n",
    "        pass\n",
    "    else:\n",
    "        raise AssertionError(\"Clicks greater than views not handled\")\n",
    "\n",
    "\n",
    "def test_zero_views():\n",
    "    try:\n",
    "        metrics.ctr(1, 0)\n",
    "    except ZeroDivisionError:\n",
    "        pass\n",
    "    else:\n",
    "        raise AssertionError(\"Zero views not handled\")\n"
   ]
  },
  {
   "cell_type": "markdown",
   "id": "57e20d61",
   "metadata": {},
   "source": [
    "## 15. RECALL @ K\n",
    "Метрики классификации:\n",
    "- habr https://habr.com/ru/companies/ods/articles/328372/\n",
    "- Лекции Соколова https://github.com/esokolov/ml-course-msu/blob/master/ML15/lecture-notes/Sem05_metrics.pdf \n",
    "\n",
    "Про ROC-AUC\n",
    "- https://alexanderdyakonov.wordpress.com/2017/07/28/auc-roc-площадь-под-кривой-ошибок/ "
   ]
  },
  {
   "cell_type": "code",
   "execution_count": 109,
   "id": "dc4b559d",
   "metadata": {},
   "outputs": [],
   "source": [
    "from typing import List\n",
    "\n",
    "\n",
    "def recall_at_k(labels: List[int], scores: List[float], k=5) -> float:\n",
    "    \"\"\"Compute recall at k.\n",
    "\n",
    "    Args:\n",
    "        y_true: list of true labels\n",
    "        y_pred: list of predicted labels\n",
    "        k: number of top labels to consider\n",
    "\n",
    "    Returns:\n",
    "        Recall at k\n",
    "    \"\"\"\n",
    "    sl = sorted(zip(scores, labels), key=lambda t: t[0], reverse=True)\n",
    "    label_sort = [x[1] for x in sl]\n",
    "    tp = sum(label_sort[:k])\n",
    "    fn = sum(label_sort[k:])\n",
    "    \n",
    "#Эталонное решение    \n",
    "#     positive_class = np.argsort(scores)[::-1][:k]\n",
    "#     negative_class = np.argsort(scores)[::-1][k:]\n",
    "#     tp_rate = np.sum([labels[i] == 1 for i in positive_class])\n",
    "#     fn_rate = np.sum([labels[i] == 1 for i in negative_class])\n",
    "\n",
    "    return tp/(tp+fn)\n",
    "\n",
    "\n",
    "def precision_at_k(labels: List[int], scores: List[float], k=5) -> float:\n",
    "    \"\"\"Compute precision at k.\n",
    "\n",
    "    Args:\n",
    "        y_true: list of true labels\n",
    "        y_pred: list of predicted labels\n",
    "        k: number of top labels to consider\n",
    "\n",
    "    Returns:\n",
    "        Precision at k\n",
    "    \"\"\"\n",
    "    sl = sorted(zip(scores, labels), key=lambda t: t[0], reverse=True)\n",
    "    label_sort = [x[1] for x in sl]\n",
    "    tp = sum(label_sort[:k])\n",
    "    fp = k-tp\n",
    "    return tp/(fp+tp)\n",
    "\n",
    "\n",
    "def specificity_at_k(labels: List[int], scores: List[float], k=5) -> float:\n",
    "    \"\"\"Compute specificity at k.\n",
    "\n",
    "    Args:\n",
    "        y_true: list of true labels\n",
    "        y_pred: list of predicted labels\n",
    "        k: number of top labels to consider\n",
    "\n",
    "    Returns:\n",
    "        Specificity at k\n",
    "    \"\"\"\n",
    "    sl = sorted(zip(scores, labels), key=lambda t: t[0], reverse=True)\n",
    "    label_sort = [x[1] for x in sl]\n",
    "    tp = sum(label_sort[:k])\n",
    "    fp = k-tp\n",
    "    fn = sum(label_sort[k:])\n",
    "    tn = len(label_sort) - k - fn\n",
    "    if(fp+tn) == 0:\n",
    "        return 0\n",
    "    return tn/(fp+tn)\n",
    "\n",
    "\n",
    "def f1_at_k(labels: List[int], scores: List[float], k=5) -> float:\n",
    "    \"\"\"Compute f1 score at k.\n",
    "\n",
    "    Args:\n",
    "        y_true: list of true labels\n",
    "        y_pred: list of predicted labels\n",
    "        k: number of top labels to consider\n",
    "\n",
    "    Returns:\n",
    "        F1 score at k\n",
    "    \"\"\"\n",
    "    precision = precision_at_k(labels, scores, k)\n",
    "    recall = recall_at_k(labels, scores, k)\n",
    "    if(precision+recall) == 0:\n",
    "        return 0\n",
    "    return 2*precision*recall/(precision + recall)\n"
   ]
  },
  {
   "cell_type": "code",
   "execution_count": 110,
   "id": "051e60fd",
   "metadata": {},
   "outputs": [],
   "source": [
    "scores = [0.85, 0.9, 0.78, 0.75, 0.68, 0.45, 0.23]\n",
    "labels = [1, 0, 0, 1, 1, 0, 1]"
   ]
  },
  {
   "cell_type": "code",
   "execution_count": 114,
   "id": "f1205f40",
   "metadata": {},
   "outputs": [
    {
     "name": "stdout",
     "output_type": "stream",
     "text": [
      "Recall:  0.75\n",
      "Precision:  0.6\n",
      "Specificity:  0.3333333333333333\n",
      "F1 :  0.6666666666666665\n"
     ]
    }
   ],
   "source": [
    "print(\"Recall: \", recall_at_k(labels, scores))\n",
    "print(\"Precision: \", precision_at_k(labels, scores))\n",
    "print(\"Specificity: \", specificity_at_k(labels, scores))\n",
    "print(\"F1 : \", f1_at_k(labels, scores))"
   ]
  },
  {
   "cell_type": "code",
   "execution_count": null,
   "id": "41e6670e",
   "metadata": {},
   "outputs": [],
   "source": []
  }
 ],
 "metadata": {
  "kernelspec": {
   "display_name": "Python 3",
   "language": "python",
   "name": "python3"
  },
  "language_info": {
   "codemirror_mode": {
    "name": "ipython",
    "version": 3
   },
   "file_extension": ".py",
   "mimetype": "text/x-python",
   "name": "python",
   "nbconvert_exporter": "python",
   "pygments_lexer": "ipython3",
   "version": "3.8.5"
  }
 },
 "nbformat": 4,
 "nbformat_minor": 5
}
