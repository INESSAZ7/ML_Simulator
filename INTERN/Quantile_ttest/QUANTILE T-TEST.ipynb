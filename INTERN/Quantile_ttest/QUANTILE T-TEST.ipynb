{
 "cells": [
  {
   "cell_type": "markdown",
   "id": "317b7c74",
   "metadata": {},
   "source": [
    "## Step-1: \n",
    "Проверка гипотезы о равенстве средних значений в двух выборках (время доставки)"
   ]
  },
  {
   "cell_type": "code",
   "execution_count": 10,
   "id": "9c4635de",
   "metadata": {},
   "outputs": [],
   "source": [
    "from typing import List, Tuple\n",
    "from scipy import stats\n",
    "\n",
    "\n",
    "def ttest(\n",
    "    control: List[float],\n",
    "    experiment: List[float],\n",
    "    alpha: float = 0.05,\n",
    ") -> Tuple[float, bool]:\n",
    "    \"\"\"Two-sample t-test for the means of two independent samples\"\"\"\n",
    "    _, p_value = stats.ttest_ind(control, experiment)\n",
    "    result = bool(p_value < alpha)\n",
    "    return p_value, result\n"
   ]
  },
  {
   "cell_type": "code",
   "execution_count": 10,
   "id": "1145a68c",
   "metadata": {},
   "outputs": [],
   "source": [
    "import pandas as pd"
   ]
  },
  {
   "cell_type": "code",
   "execution_count": 11,
   "id": "81b98d77",
   "metadata": {},
   "outputs": [
    {
     "data": {
      "text/html": [
       "<div>\n",
       "<style scoped>\n",
       "    .dataframe tbody tr th:only-of-type {\n",
       "        vertical-align: middle;\n",
       "    }\n",
       "\n",
       "    .dataframe tbody tr th {\n",
       "        vertical-align: top;\n",
       "    }\n",
       "\n",
       "    .dataframe thead th {\n",
       "        text-align: right;\n",
       "    }\n",
       "</style>\n",
       "<table border=\"1\" class=\"dataframe\">\n",
       "  <thead>\n",
       "    <tr style=\"text-align: right;\">\n",
       "      <th></th>\n",
       "      <th>STUDY</th>\n",
       "      <th>AGE</th>\n",
       "      <th>GENDER</th>\n",
       "      <th>DECISION</th>\n",
       "      <th>DEO1</th>\n",
       "      <th>DEO2</th>\n",
       "      <th>DEO3</th>\n",
       "      <th>DEO4</th>\n",
       "      <th>DEO5</th>\n",
       "      <th>DEO6</th>\n",
       "      <th>...</th>\n",
       "      <th>AE</th>\n",
       "      <th>MOUSE1</th>\n",
       "      <th>MOUSE2</th>\n",
       "      <th>MOUSE3</th>\n",
       "      <th>MOUSE</th>\n",
       "      <th>DOUBT</th>\n",
       "      <th>OTHERCHOICE</th>\n",
       "      <th>UNCOMFORTABLE</th>\n",
       "      <th>NOSHOCK</th>\n",
       "      <th>RT</th>\n",
       "    </tr>\n",
       "  </thead>\n",
       "  <tbody>\n",
       "    <tr>\n",
       "      <th>0</th>\n",
       "      <td>1</td>\n",
       "      <td>38</td>\n",
       "      <td>1</td>\n",
       "      <td>NaN</td>\n",
       "      <td>2</td>\n",
       "      <td>2</td>\n",
       "      <td>2</td>\n",
       "      <td>1</td>\n",
       "      <td>2</td>\n",
       "      <td>2</td>\n",
       "      <td>...</td>\n",
       "      <td>5.000000</td>\n",
       "      <td>6.0</td>\n",
       "      <td>5.0</td>\n",
       "      <td>5.0</td>\n",
       "      <td>5.333333</td>\n",
       "      <td>NaN</td>\n",
       "      <td>NaN</td>\n",
       "      <td>NaN</td>\n",
       "      <td>NaN</td>\n",
       "      <td>NaN</td>\n",
       "    </tr>\n",
       "    <tr>\n",
       "      <th>1</th>\n",
       "      <td>1</td>\n",
       "      <td>22</td>\n",
       "      <td>1</td>\n",
       "      <td>NaN</td>\n",
       "      <td>1</td>\n",
       "      <td>2</td>\n",
       "      <td>2</td>\n",
       "      <td>1</td>\n",
       "      <td>2</td>\n",
       "      <td>1</td>\n",
       "      <td>...</td>\n",
       "      <td>5.727273</td>\n",
       "      <td>5.0</td>\n",
       "      <td>6.0</td>\n",
       "      <td>6.0</td>\n",
       "      <td>5.666667</td>\n",
       "      <td>NaN</td>\n",
       "      <td>NaN</td>\n",
       "      <td>NaN</td>\n",
       "      <td>NaN</td>\n",
       "      <td>NaN</td>\n",
       "    </tr>\n",
       "    <tr>\n",
       "      <th>2</th>\n",
       "      <td>1</td>\n",
       "      <td>39</td>\n",
       "      <td>1</td>\n",
       "      <td>NaN</td>\n",
       "      <td>1</td>\n",
       "      <td>1</td>\n",
       "      <td>3</td>\n",
       "      <td>5</td>\n",
       "      <td>3</td>\n",
       "      <td>1</td>\n",
       "      <td>...</td>\n",
       "      <td>5.545455</td>\n",
       "      <td>6.0</td>\n",
       "      <td>6.0</td>\n",
       "      <td>6.0</td>\n",
       "      <td>6.000000</td>\n",
       "      <td>NaN</td>\n",
       "      <td>NaN</td>\n",
       "      <td>NaN</td>\n",
       "      <td>NaN</td>\n",
       "      <td>NaN</td>\n",
       "    </tr>\n",
       "    <tr>\n",
       "      <th>3</th>\n",
       "      <td>1</td>\n",
       "      <td>21</td>\n",
       "      <td>0</td>\n",
       "      <td>1.0</td>\n",
       "      <td>2</td>\n",
       "      <td>3</td>\n",
       "      <td>3</td>\n",
       "      <td>3</td>\n",
       "      <td>3</td>\n",
       "      <td>2</td>\n",
       "      <td>...</td>\n",
       "      <td>5.136364</td>\n",
       "      <td>4.0</td>\n",
       "      <td>7.0</td>\n",
       "      <td>7.0</td>\n",
       "      <td>6.000000</td>\n",
       "      <td>2.0</td>\n",
       "      <td>0.0</td>\n",
       "      <td>6.0</td>\n",
       "      <td>80.0</td>\n",
       "      <td>9.212427</td>\n",
       "    </tr>\n",
       "    <tr>\n",
       "      <th>4</th>\n",
       "      <td>1</td>\n",
       "      <td>20</td>\n",
       "      <td>0</td>\n",
       "      <td>1.0</td>\n",
       "      <td>4</td>\n",
       "      <td>2</td>\n",
       "      <td>2</td>\n",
       "      <td>2</td>\n",
       "      <td>2</td>\n",
       "      <td>2</td>\n",
       "      <td>...</td>\n",
       "      <td>4.181818</td>\n",
       "      <td>4.0</td>\n",
       "      <td>6.0</td>\n",
       "      <td>6.0</td>\n",
       "      <td>5.333333</td>\n",
       "      <td>4.0</td>\n",
       "      <td>0.0</td>\n",
       "      <td>6.5</td>\n",
       "      <td>75.0</td>\n",
       "      <td>17.071711</td>\n",
       "    </tr>\n",
       "  </tbody>\n",
       "</table>\n",
       "<p>5 rows × 132 columns</p>\n",
       "</div>"
      ],
      "text/plain": [
       "   STUDY  AGE  GENDER  DECISION  DEO1  DEO2  DEO3  DEO4  DEO5  DEO6  ...  \\\n",
       "0      1   38       1       NaN     2     2     2     1     2     2  ...   \n",
       "1      1   22       1       NaN     1     2     2     1     2     1  ...   \n",
       "2      1   39       1       NaN     1     1     3     5     3     1  ...   \n",
       "3      1   21       0       1.0     2     3     3     3     3     2  ...   \n",
       "4      1   20       0       1.0     4     2     2     2     2     2  ...   \n",
       "\n",
       "         AE  MOUSE1  MOUSE2  MOUSE3     MOUSE  DOUBT  OTHERCHOICE  \\\n",
       "0  5.000000     6.0     5.0     5.0  5.333333    NaN          NaN   \n",
       "1  5.727273     5.0     6.0     6.0  5.666667    NaN          NaN   \n",
       "2  5.545455     6.0     6.0     6.0  6.000000    NaN          NaN   \n",
       "3  5.136364     4.0     7.0     7.0  6.000000    2.0          0.0   \n",
       "4  4.181818     4.0     6.0     6.0  5.333333    4.0          0.0   \n",
       "\n",
       "   UNCOMFORTABLE  NOSHOCK         RT  \n",
       "0            NaN      NaN        NaN  \n",
       "1            NaN      NaN        NaN  \n",
       "2            NaN      NaN        NaN  \n",
       "3            6.0     80.0   9.212427  \n",
       "4            6.5     75.0  17.071711  \n",
       "\n",
       "[5 rows x 132 columns]"
      ]
     },
     "execution_count": 11,
     "metadata": {},
     "output_type": "execute_result"
    }
   ],
   "source": [
    "df = pd.read_csv(\"mouse.csv\", sep=\"\\t\")\n",
    "df.head()"
   ]
  },
  {
   "cell_type": "code",
   "execution_count": 12,
   "id": "bff82de7",
   "metadata": {},
   "outputs": [],
   "source": [
    "df.dropna(subset=['DECISION'], inplace=True)"
   ]
  },
  {
   "cell_type": "code",
   "execution_count": 13,
   "id": "68898f36",
   "metadata": {},
   "outputs": [],
   "source": [
    "men = df[(df['GENDER'] == 1)]['RT'].dropna().values\n",
    "women = df[(df['GENDER'] == 0)]['RT'].dropna().values"
   ]
  },
  {
   "cell_type": "code",
   "execution_count": 14,
   "id": "12ee91ed",
   "metadata": {},
   "outputs": [
    {
     "data": {
      "text/plain": [
       "(0.17355983852026008, False)"
      ]
     },
     "execution_count": 14,
     "metadata": {},
     "output_type": "execute_result"
    }
   ],
   "source": [
    "ttest(men, women)"
   ]
  },
  {
   "cell_type": "markdown",
   "id": "5c58407f",
   "metadata": {},
   "source": [
    "## Step-2\n",
    "Cравнение квантилей"
   ]
  },
  {
   "cell_type": "code",
   "execution_count": 3,
   "id": "d5397a10",
   "metadata": {},
   "outputs": [],
   "source": [
    "# Пример нахождения распределения медианы с помощью бутстрэпа\n",
    "import numpy as np\n",
    "from typing import List\n",
    "\n",
    "def bootstrapped_median(x: List[float], n_bootstraps: int = 10_000) -> List[float]:\n",
    "    \"\"\"Bootstrapped median distribution\"\"\"\n",
    "    bootstrapped_medians = []\n",
    "    \n",
    "    for _ in range(n_bootstraps):\n",
    "        bootstrapped_sample = np.random.choice(x, size=len(x), replace=True)\n",
    "        bootstrapped_medians.append(np.median(bootstrapped_sample))\n",
    "        \n",
    "    return bootstrapped_medians\n"
   ]
  },
  {
   "cell_type": "code",
   "execution_count": null,
   "id": "f132a9aa",
   "metadata": {},
   "outputs": [],
   "source": [
    "# Находим 75-ый персентиль медианы\n",
    "samples = bootstrapped_median(x, n_bootstraps=1000)\n",
    "q75 = sorted(bootstrapped_median(x))[750]"
   ]
  },
  {
   "cell_type": "markdown",
   "id": "ed8c28d3",
   "metadata": {},
   "source": [
    "### Bootstrap and 95%-quantile distribution\n",
    "\n",
    "- https://freakonometrics.hypotheses.org/4199 "
   ]
  },
  {
   "cell_type": "code",
   "execution_count": 163,
   "id": "3714cedf",
   "metadata": {},
   "outputs": [],
   "source": [
    "from typing import List\n",
    "from typing import Tuple\n",
    "\n",
    "import numpy as np\n",
    "from scipy.stats import ttest_ind\n",
    "\n",
    "\n",
    "def quantile_ttest(\n",
    "    control: List[float],\n",
    "    experiment: List[float],\n",
    "    alpha: float = 0.05,\n",
    "    quantile: float = 0.95,\n",
    "    n_bootstraps: int = 1000,\n",
    ") -> Tuple[float, bool]:\n",
    "    \"\"\"\n",
    "    Bootstrapped t-test for quantiles of two samples.\n",
    "    \"\"\"\n",
    "    bs_quantile_control = []\n",
    "    bs_quantile_experiment = []\n",
    "    \n",
    "    for _ in range(n_bootstraps):\n",
    "        bs_control = np.random.choice(control, size=len(control), replace=True)\n",
    "        bs_experiment = np.random.choice(experiment, size=len(experiment), replace=True)\n",
    "        bs_quantile_control.append(sorted(bs_control)[int(quantile*len(control))])\n",
    "        bs_quantile_experiment.append(sorted(bs_experiment)[int(quantile*len(experiment))])\n",
    "    \n",
    "    p_value = ttest_ind(bs_quantile_control, bs_quantile_experiment)[1]\n",
    "    result = bool(p_value < alpha)\n",
    "    \n",
    "    return p_value, result\n"
   ]
  },
  {
   "cell_type": "code",
   "execution_count": 164,
   "id": "da0e0dd8",
   "metadata": {},
   "outputs": [],
   "source": [
    "control = np.random.normal(10, 5, 1000)\n",
    "experiment = np.random.normal(10, 7, 1000)"
   ]
  },
  {
   "cell_type": "code",
   "execution_count": 165,
   "id": "da561550",
   "metadata": {},
   "outputs": [
    {
     "data": {
      "image/png": "[encoded data removed]",
      "text/plain": [
       "<Figure size 432x288 with 1 Axes>"
      ]
     },
     "metadata": {
      "needs_background": "light"
     },
     "output_type": "display_data"
    }
   ],
   "source": [
    "import matplotlib.pyplot as plt\n",
    "count, bins, ignored = plt.hist(control, 30, density=True)\n",
    "count2, bins2, ignored2 = plt.hist(experiment, 30, density=True)\n",
    "plt.plot(bins, 1/(5 * np.sqrt(2 * np.pi)) *\n",
    "               np.exp( - (bins - 10)**2 / (2 * 5**2) ),\n",
    "         linewidth=2, color='r')\n",
    "plt.plot(bins2, 1/(7 * np.sqrt(2 * np.pi)) *\n",
    "               np.exp( - (bins2 - 10)**2 / (2 * 7**2) ),\n",
    "         linewidth=2, color='b')\n",
    "plt.show()"
   ]
  },
  {
   "cell_type": "code",
   "execution_count": 166,
   "id": "4de7e569",
   "metadata": {},
   "outputs": [
    {
     "data": {
      "text/plain": [
       "(0.26757981813573445, False)"
      ]
     },
     "execution_count": 166,
     "metadata": {},
     "output_type": "execute_result"
    }
   ],
   "source": [
    "ttest(control, experiment, alpha=0.05)"
   ]
  },
  {
   "cell_type": "code",
   "execution_count": 167,
   "id": "30c2828a",
   "metadata": {},
   "outputs": [
    {
     "data": {
      "text/plain": [
       "(0.0, True)"
      ]
     },
     "execution_count": 167,
     "metadata": {},
     "output_type": "execute_result"
    }
   ],
   "source": [
    "quantile_ttest(control, experiment, alpha=0.05, quantile=0.95)"
   ]
  },
  {
   "cell_type": "code",
   "execution_count": null,
   "id": "0eccf9b3",
   "metadata": {},
   "outputs": [],
   "source": [
    "control = gamma.rvs(1, size=1000)\n",
    "experiment = gamma.rvs(2, size=1000)"
   ]
  },
  {
   "cell_type": "code",
   "execution_count": null,
   "id": "2c7665df",
   "metadata": {},
   "outputs": [],
   "source": []
  }
 ],
 "metadata": {
  "kernelspec": {
   "display_name": "Python 3",
   "language": "python",
   "name": "python3"
  },
  "language_info": {
   "codemirror_mode": {
    "name": "ipython",
    "version": 3
   },
   "file_extension": ".py",
   "mimetype": "text/x-python",
   "name": "python",
   "nbconvert_exporter": "python",
   "pygments_lexer": "ipython3",
   "version": "3.8.5"
  }
 },
 "nbformat": 4,
 "nbformat_minor": 5
}
